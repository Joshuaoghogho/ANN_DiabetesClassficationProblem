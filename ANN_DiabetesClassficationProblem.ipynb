{
 "cells": [
  {
   "cell_type": "markdown",
   "id": "f53ca1d7-29af-4a8d-8480-da8e89fc3335",
   "metadata": {},
   "source": [
    "## For this project total preview on my github account:\n",
    "https://github.com/Joshuaoghogho\n",
    "## Diabetes Classification Using ANN\n",
    "This project aims to build a predictive model using an Artificial Neural Network (ANN) to classify whether a patient is diabetic or not, based on diagnostic features from the PIMA Indians Diabetes Dataset. Tackling this health problem enables early detection and intervention, which is crucial for patient care.\n",
    "\n",
    "## Project Overview:\n",
    "The goal of this project is to build a machine learning model using an Artificial Neural Network (ANN) to classify whether a patient is diabetic or not, based on medical features such as: Pregnancies, Glucose, Blood Pressure, Skin Thickness, Insulin, BMI, Diabetes Pedigree Function, Age, Outcome. The dataset used was the Pima Indians Diabetes dataset, which contains medical data for 768 female patients of Pima Indian heritage. The data was split into training and test sets, and the model was trained using a deep learning architecture that included callbacks like EarlyStopping and ModelCheckpoint to prevent overfitting and ensure the best model is saved.\n",
    "\n",
    "## Project Pipeline Breakdown\n",
    "1. Data Collection\n",
    " ## Dataset: \n",
    " ## PIMA Indians Diabetes Dataset, Format: CSV\n",
    " Source:  https://www.kaggle.com/datasets/uciml/pima-indians-diabetes-database\n",
    "Kaggle / UCI Repository\n",
    "\n",
    "2. Data Exploration & Cleaning. \n",
    "I checked for nulls, invalid values (like 0 in glucose/BMI), and data imbalance.\n",
    "Also handled outliers and replaced 0s with NaN where necessary, followed by imputation using median values.\n",
    "4. Feature Scaling.\n",
    "StandardScaler was applied to normalize feature values for better ANN performance.\n",
    "5. Splitting the Data.\n",
    "Training and testing datasets created using an 80:20 split via train_test_split.\n",
    "\n",
    "6. Model Building: ANN\n",
    "Used TensorFlow/Keras to build a 3-layer ANN:\n",
    "# Input layer with 8 neurons (features)\n",
    "                           #Hidden layers (ReLU activation)\n",
    "                           #Output layer with Sigmoid for binary classification\n",
    "6. Model Compilation\n",
    "Optimizer: Adam\n",
    " Loss Function: Binary Crossentropy\n",
    "Metrics: Accuracy, Precision, Recall, and AUC\n",
    "7. Model Training.\n",
    "I trained the ANN over 100 epochs\n",
    "I also used history object to monitor loss and accuracy across epochs with batch size 10\n",
    "9. Model Evaluation.\n",
    "Evaluated performance using: Accuracy, Precision, Recall, F1-Score, ROC AUC, Confusion Matrix\n",
    "Visualized: Training vs Validation Loss, ROC Curve, Prediction Errors\n",
    "10. Saving the Model.\n",
    "I saved the model using model.save(\"Pima_Diabetes_Classification.h5\") for future deployment or predictions.\n",
    "\n",
    "## Results:\n",
    "Training Accuracy: 74%\n",
    "Test Accuracy: 68%\n",
    "\n",
    "The model showed strong generalization with balanced precision and recall.\n"
   ]
  },
  {
   "cell_type": "markdown",
   "id": "f56dede0",
   "metadata": {
    "id": "f56dede0"
   },
   "source": [
    "# Import and Read the Dataset"
   ]
  },
  {
   "cell_type": "code",
   "execution_count": 1,
   "id": "62dd6dc6-101f-43a7-bfef-12e4d93c7056",
   "metadata": {},
   "outputs": [],
   "source": [
    "#Import all necessary libraries"
   ]
  },
  {
   "cell_type": "code",
   "execution_count": 1,
   "id": "45e697e7-6f5d-4e09-bc10-d382d3b08c13",
   "metadata": {},
   "outputs": [
    {
     "name": "stdout",
     "output_type": "stream",
     "text": [
      "WARNING:tensorflow:From C:\\Users\\HP\\AppData\\Local\\Temp\\ipykernel_21228\\1833757645.py:13: The name tf.enable_eager_execution is deprecated. Please use tf.compat.v1.enable_eager_execution instead.\n",
      "\n"
     ]
    }
   ],
   "source": [
    "import pandas as pd\n",
    "import numpy as np\n",
    "from sklearn.model_selection import train_test_split\n",
    "from sklearn.preprocessing import StandardScaler\n",
    "from sklearn.metrics import classification_report, confusion_matrix, roc_auc_score\n",
    "import matplotlib.pyplot as plt\n",
    "import seaborn as sns\n",
    "from tensorflow.keras.models import Sequential\n",
    "from tensorflow.keras.layers import Dense\n",
    "from tensorflow.keras.optimizers import Adam\n",
    "import tensorflow as tf\n",
    "# Enable eager execution\n",
    "tf.compat.v1.enable_eager_execution()"
   ]
  },
  {
   "cell_type": "code",
   "execution_count": 2,
   "id": "219c8614-72cd-4b68-a035-d583133e7748",
   "metadata": {},
   "outputs": [
    {
     "name": "stdout",
     "output_type": "stream",
     "text": [
      "Eager Execution Enabled: True\n"
     ]
    }
   ],
   "source": [
    "print(\"Eager Execution Enabled:\", tf.executing_eagerly())"
   ]
  },
  {
   "cell_type": "code",
   "execution_count": 3,
   "id": "sPWThB4RB991",
   "metadata": {
    "colab": {
     "base_uri": "https://localhost:8080/"
    },
    "executionInfo": {
     "elapsed": 3807,
     "status": "ok",
     "timestamp": 1732960680170,
     "user": {
      "displayName": "Preeti Mishra",
      "userId": "07052235337022283726"
     },
     "user_tz": -330
    },
    "id": "sPWThB4RB991",
    "outputId": "691e8fd6-4ec0-43a9-9f4e-4f562dd19672"
   },
   "outputs": [],
   "source": [
    "#For google colab\n",
    "#from google.colab import drive\n",
    "#drive.mount('/content/drive')"
   ]
  },
  {
   "cell_type": "code",
   "execution_count": 4,
   "id": "22f5f16c",
   "metadata": {
    "id": "22f5f16c"
   },
   "outputs": [],
   "source": [
    "#import pandas as pd\n",
    "#data=pd.read_csv('/content/drive/My Drive/diabetes.csv')"
   ]
  },
  {
   "cell_type": "code",
   "execution_count": 5,
   "id": "3f8ec6d1-14da-4e6a-a819-87705725e24e",
   "metadata": {},
   "outputs": [],
   "source": [
    "data = pd.read_csv('diabetes.csv')"
   ]
  },
  {
   "cell_type": "code",
   "execution_count": 6,
   "id": "5ed042b1",
   "metadata": {
    "colab": {
     "base_uri": "https://localhost:8080/",
     "height": 206
    },
    "executionInfo": {
     "elapsed": 464,
     "status": "ok",
     "timestamp": 1732952957699,
     "user": {
      "displayName": "Preeti Mishra",
      "userId": "07052235337022283726"
     },
     "user_tz": -330
    },
    "id": "5ed042b1",
    "outputId": "21461fa5-c7a0-46b0-a4ee-ee39e47c7562"
   },
   "outputs": [
    {
     "data": {
      "text/html": [
       "<div>\n",
       "<style scoped>\n",
       "    .dataframe tbody tr th:only-of-type {\n",
       "        vertical-align: middle;\n",
       "    }\n",
       "\n",
       "    .dataframe tbody tr th {\n",
       "        vertical-align: top;\n",
       "    }\n",
       "\n",
       "    .dataframe thead th {\n",
       "        text-align: right;\n",
       "    }\n",
       "</style>\n",
       "<table border=\"1\" class=\"dataframe\">\n",
       "  <thead>\n",
       "    <tr style=\"text-align: right;\">\n",
       "      <th></th>\n",
       "      <th>Pregnancies</th>\n",
       "      <th>Glucose</th>\n",
       "      <th>BloodPressure</th>\n",
       "      <th>SkinThickness</th>\n",
       "      <th>Insulin</th>\n",
       "      <th>BMI</th>\n",
       "      <th>DiabetesPedigreeFunction</th>\n",
       "      <th>Age</th>\n",
       "      <th>Outcome</th>\n",
       "    </tr>\n",
       "  </thead>\n",
       "  <tbody>\n",
       "    <tr>\n",
       "      <th>0</th>\n",
       "      <td>6</td>\n",
       "      <td>148</td>\n",
       "      <td>72</td>\n",
       "      <td>35</td>\n",
       "      <td>0</td>\n",
       "      <td>33.6</td>\n",
       "      <td>0.627</td>\n",
       "      <td>50</td>\n",
       "      <td>1</td>\n",
       "    </tr>\n",
       "    <tr>\n",
       "      <th>1</th>\n",
       "      <td>1</td>\n",
       "      <td>85</td>\n",
       "      <td>66</td>\n",
       "      <td>29</td>\n",
       "      <td>0</td>\n",
       "      <td>26.6</td>\n",
       "      <td>0.351</td>\n",
       "      <td>31</td>\n",
       "      <td>0</td>\n",
       "    </tr>\n",
       "    <tr>\n",
       "      <th>2</th>\n",
       "      <td>8</td>\n",
       "      <td>183</td>\n",
       "      <td>64</td>\n",
       "      <td>0</td>\n",
       "      <td>0</td>\n",
       "      <td>23.3</td>\n",
       "      <td>0.672</td>\n",
       "      <td>32</td>\n",
       "      <td>1</td>\n",
       "    </tr>\n",
       "    <tr>\n",
       "      <th>3</th>\n",
       "      <td>1</td>\n",
       "      <td>89</td>\n",
       "      <td>66</td>\n",
       "      <td>23</td>\n",
       "      <td>94</td>\n",
       "      <td>28.1</td>\n",
       "      <td>0.167</td>\n",
       "      <td>21</td>\n",
       "      <td>0</td>\n",
       "    </tr>\n",
       "    <tr>\n",
       "      <th>4</th>\n",
       "      <td>0</td>\n",
       "      <td>137</td>\n",
       "      <td>40</td>\n",
       "      <td>35</td>\n",
       "      <td>168</td>\n",
       "      <td>43.1</td>\n",
       "      <td>2.288</td>\n",
       "      <td>33</td>\n",
       "      <td>1</td>\n",
       "    </tr>\n",
       "  </tbody>\n",
       "</table>\n",
       "</div>"
      ],
      "text/plain": [
       "   Pregnancies  Glucose  BloodPressure  SkinThickness  Insulin   BMI  \\\n",
       "0            6      148             72             35        0  33.6   \n",
       "1            1       85             66             29        0  26.6   \n",
       "2            8      183             64              0        0  23.3   \n",
       "3            1       89             66             23       94  28.1   \n",
       "4            0      137             40             35      168  43.1   \n",
       "\n",
       "   DiabetesPedigreeFunction  Age  Outcome  \n",
       "0                     0.627   50        1  \n",
       "1                     0.351   31        0  \n",
       "2                     0.672   32        1  \n",
       "3                     0.167   21        0  \n",
       "4                     2.288   33        1  "
      ]
     },
     "execution_count": 6,
     "metadata": {},
     "output_type": "execute_result"
    }
   ],
   "source": [
    "#Getting the first five rows for overview the dataset\n",
    "data.head(5)"
   ]
  },
  {
   "cell_type": "code",
   "execution_count": 7,
   "id": "bdbfc3c7-76f7-405c-a929-c2b651a52e12",
   "metadata": {},
   "outputs": [
    {
     "data": {
      "text/plain": [
       "Pregnancies                 768\n",
       "Glucose                     768\n",
       "BloodPressure               768\n",
       "SkinThickness               768\n",
       "Insulin                     768\n",
       "BMI                         768\n",
       "DiabetesPedigreeFunction    768\n",
       "Age                         768\n",
       "Outcome                     768\n",
       "dtype: int64"
      ]
     },
     "execution_count": 7,
     "metadata": {},
     "output_type": "execute_result"
    }
   ],
   "source": [
    "#count the number of each coumn\n",
    "data.count()"
   ]
  },
  {
   "cell_type": "markdown",
   "id": "2ee7da10",
   "metadata": {
    "id": "2ee7da10"
   },
   "source": [
    "# Data visualization"
   ]
  },
  {
   "cell_type": "code",
   "execution_count": 8,
   "id": "298dacb5",
   "metadata": {
    "id": "298dacb5",
    "outputId": "ea86a34c-8b76-4896-aec8-118972f880b0"
   },
   "outputs": [
    {
     "data": {
      "image/png": "[encoded data removed]",
      "text/plain": [
       "<Figure size 500x300 with 1 Axes>"
      ]
     },
     "metadata": {},
     "output_type": "display_data"
    }
   ],
   "source": [
    "import seaborn as sns\n",
    "import matplotlib.pyplot as plt\n",
    "plt.figure(figsize=(5, 3))\n",
    "data['Outcome'].value_counts().plot(kind='bar')\n",
    "plt.show()\n",
    "# Counting the valuse of the Outcome column"
   ]
  },
  {
   "cell_type": "markdown",
   "id": "67ce4ca0",
   "metadata": {
    "id": "67ce4ca0"
   },
   "source": [
    "# Data Preparation"
   ]
  },
  {
   "cell_type": "code",
   "execution_count": 9,
   "id": "084ca187",
   "metadata": {
    "id": "084ca187"
   },
   "outputs": [],
   "source": [
    "#split into input and output (x and y variables)\n",
    "X=data.iloc[:,0:8]\n",
    "Y=data.iloc[:,8]"
   ]
  },
  {
   "cell_type": "code",
   "execution_count": 10,
   "id": "f27ea0a0",
   "metadata": {
    "id": "f27ea0a0",
    "outputId": "34b001b1-4f2a-43b3-e0da-3bb104153a51"
   },
   "outputs": [
    {
     "name": "stdout",
     "output_type": "stream",
     "text": [
      "(614, 8) (614,)\n",
      "(154, 8) (154,)\n"
     ]
    }
   ],
   "source": [
    "#create training and testing variables\n",
    "X_train, X_test, Y_train, Y_test= train_test_split(X,Y,test_size=0.2)\n",
    "print(X_train.shape,Y_train.shape)\n",
    "print(X_test.shape, Y_test.shape)"
   ]
  },
  {
   "cell_type": "markdown",
   "id": "661ef8e7",
   "metadata": {
    "id": "661ef8e7"
   },
   "source": [
    "# Training the model- using deep neural network"
   ]
  },
  {
   "cell_type": "code",
   "execution_count": 11,
   "id": "594545ff",
   "metadata": {
    "id": "594545ff"
   },
   "outputs": [
    {
     "name": "stderr",
     "output_type": "stream",
     "text": [
      "C:\\Users\\HP\\anaconda3\\Lib\\site-packages\\keras\\src\\layers\\core\\dense.py:87: UserWarning: Do not pass an `input_shape`/`input_dim` argument to a layer. When using Sequential models, prefer using an `Input(shape)` object as the first layer in the model instead.\n",
      "  super().__init__(activity_regularizer=activity_regularizer, **kwargs)\n"
     ]
    }
   ],
   "source": [
    "#Input 3 layers and 8 neurons\n",
    "model=Sequential()\n",
    "model.add(Dense(15, input_dim=8, activation='relu'))\n",
    "model.add(Dense(8,activation='relu'))\n",
    "model.add(Dense(1, activation='sigmoid'))"
   ]
  },
  {
   "cell_type": "code",
   "execution_count": 12,
   "id": "15737674",
   "metadata": {
    "id": "15737674",
    "outputId": "a8d4827f-cbda-4ae5-fcb7-dff340cc6971"
   },
   "outputs": [
    {
     "data": {
      "text/html": [
       "<pre style=\"white-space:pre;overflow-x:auto;line-height:normal;font-family:Menlo,'DejaVu Sans Mono',consolas,'Courier New',monospace\"><span style=\"font-weight: bold\">Model: \"sequential\"</span>\n",
       "</pre>\n"
      ],
      "text/plain": [
       "\u001b[1mModel: \"sequential\"\u001b[0m\n"
      ]
     },
     "metadata": {},
     "output_type": "display_data"
    },
    {
     "data": {
      "text/html": [
       "<pre style=\"white-space:pre;overflow-x:auto;line-height:normal;font-family:Menlo,'DejaVu Sans Mono',consolas,'Courier New',monospace\">┏━━━━━━━━━━━━━━━━━━━━━━━━━━━━━━━━━━━━━━┳━━━━━━━━━━━━━━━━━━━━━━━━━━━━━┳━━━━━━━━━━━━━━━━━┓\n",
       "┃<span style=\"font-weight: bold\"> Layer (type)                         </span>┃<span style=\"font-weight: bold\"> Output Shape                </span>┃<span style=\"font-weight: bold\">         Param # </span>┃\n",
       "┡━━━━━━━━━━━━━━━━━━━━━━━━━━━━━━━━━━━━━━╇━━━━━━━━━━━━━━━━━━━━━━━━━━━━━╇━━━━━━━━━━━━━━━━━┩\n",
       "│ dense (<span style=\"color: #0087ff; text-decoration-color: #0087ff\">Dense</span>)                        │ (<span style=\"color: #00d7ff; text-decoration-color: #00d7ff\">None</span>, <span style=\"color: #00af00; text-decoration-color: #00af00\">15</span>)                  │             <span style=\"color: #00af00; text-decoration-color: #00af00\">135</span> │\n",
       "├──────────────────────────────────────┼─────────────────────────────┼─────────────────┤\n",
       "│ dense_1 (<span style=\"color: #0087ff; text-decoration-color: #0087ff\">Dense</span>)                      │ (<span style=\"color: #00d7ff; text-decoration-color: #00d7ff\">None</span>, <span style=\"color: #00af00; text-decoration-color: #00af00\">8</span>)                   │             <span style=\"color: #00af00; text-decoration-color: #00af00\">128</span> │\n",
       "├──────────────────────────────────────┼─────────────────────────────┼─────────────────┤\n",
       "│ dense_2 (<span style=\"color: #0087ff; text-decoration-color: #0087ff\">Dense</span>)                      │ (<span style=\"color: #00d7ff; text-decoration-color: #00d7ff\">None</span>, <span style=\"color: #00af00; text-decoration-color: #00af00\">1</span>)                   │               <span style=\"color: #00af00; text-decoration-color: #00af00\">9</span> │\n",
       "└──────────────────────────────────────┴─────────────────────────────┴─────────────────┘\n",
       "</pre>\n"
      ],
      "text/plain": [
       "┏━━━━━━━━━━━━━━━━━━━━━━━━━━━━━━━━━━━━━━┳━━━━━━━━━━━━━━━━━━━━━━━━━━━━━┳━━━━━━━━━━━━━━━━━┓\n",
       "┃\u001b[1m \u001b[0m\u001b[1mLayer (type)                        \u001b[0m\u001b[1m \u001b[0m┃\u001b[1m \u001b[0m\u001b[1mOutput Shape               \u001b[0m\u001b[1m \u001b[0m┃\u001b[1m \u001b[0m\u001b[1m        Param #\u001b[0m\u001b[1m \u001b[0m┃\n",
       "┡━━━━━━━━━━━━━━━━━━━━━━━━━━━━━━━━━━━━━━╇━━━━━━━━━━━━━━━━━━━━━━━━━━━━━╇━━━━━━━━━━━━━━━━━┩\n",
       "│ dense (\u001b[38;5;33mDense\u001b[0m)                        │ (\u001b[38;5;45mNone\u001b[0m, \u001b[38;5;34m15\u001b[0m)                  │             \u001b[38;5;34m135\u001b[0m │\n",
       "├──────────────────────────────────────┼─────────────────────────────┼─────────────────┤\n",
       "│ dense_1 (\u001b[38;5;33mDense\u001b[0m)                      │ (\u001b[38;5;45mNone\u001b[0m, \u001b[38;5;34m8\u001b[0m)                   │             \u001b[38;5;34m128\u001b[0m │\n",
       "├──────────────────────────────────────┼─────────────────────────────┼─────────────────┤\n",
       "│ dense_2 (\u001b[38;5;33mDense\u001b[0m)                      │ (\u001b[38;5;45mNone\u001b[0m, \u001b[38;5;34m1\u001b[0m)                   │               \u001b[38;5;34m9\u001b[0m │\n",
       "└──────────────────────────────────────┴─────────────────────────────┴─────────────────┘\n"
      ]
     },
     "metadata": {},
     "output_type": "display_data"
    },
    {
     "data": {
      "text/html": [
       "<pre style=\"white-space:pre;overflow-x:auto;line-height:normal;font-family:Menlo,'DejaVu Sans Mono',consolas,'Courier New',monospace\"><span style=\"font-weight: bold\"> Total params: </span><span style=\"color: #00af00; text-decoration-color: #00af00\">272</span> (1.06 KB)\n",
       "</pre>\n"
      ],
      "text/plain": [
       "\u001b[1m Total params: \u001b[0m\u001b[38;5;34m272\u001b[0m (1.06 KB)\n"
      ]
     },
     "metadata": {},
     "output_type": "display_data"
    },
    {
     "data": {
      "text/html": [
       "<pre style=\"white-space:pre;overflow-x:auto;line-height:normal;font-family:Menlo,'DejaVu Sans Mono',consolas,'Courier New',monospace\"><span style=\"font-weight: bold\"> Trainable params: </span><span style=\"color: #00af00; text-decoration-color: #00af00\">272</span> (1.06 KB)\n",
       "</pre>\n"
      ],
      "text/plain": [
       "\u001b[1m Trainable params: \u001b[0m\u001b[38;5;34m272\u001b[0m (1.06 KB)\n"
      ]
     },
     "metadata": {},
     "output_type": "display_data"
    },
    {
     "data": {
      "text/html": [
       "<pre style=\"white-space:pre;overflow-x:auto;line-height:normal;font-family:Menlo,'DejaVu Sans Mono',consolas,'Courier New',monospace\"><span style=\"font-weight: bold\"> Non-trainable params: </span><span style=\"color: #00af00; text-decoration-color: #00af00\">0</span> (0.00 B)\n",
       "</pre>\n"
      ],
      "text/plain": [
       "\u001b[1m Non-trainable params: \u001b[0m\u001b[38;5;34m0\u001b[0m (0.00 B)\n"
      ]
     },
     "metadata": {},
     "output_type": "display_data"
    }
   ],
   "source": [
    "#model sequential summary\n",
    "model.summary()"
   ]
  },
  {
   "cell_type": "markdown",
   "id": "c017a0ff",
   "metadata": {
    "id": "c017a0ff"
   },
   "source": [
    "# Compiling model"
   ]
  },
  {
   "cell_type": "code",
   "execution_count": 13,
   "id": "6caf4899",
   "metadata": {
    "id": "6caf4899"
   },
   "outputs": [],
   "source": [
    "model.compile(loss='binary_crossentropy', optimizer='adam', metrics=['accuracy'])"
   ]
  },
  {
   "cell_type": "markdown",
   "id": "f5e454bc",
   "metadata": {
    "id": "f5e454bc"
   },
   "source": [
    "# Fitting Model"
   ]
  },
  {
   "cell_type": "code",
   "execution_count": 14,
   "id": "b66cf470",
   "metadata": {
    "id": "b66cf470",
    "outputId": "18ab5dec-b641-403b-d89c-db873b850725"
   },
   "outputs": [
    {
     "name": "stdout",
     "output_type": "stream",
     "text": [
      "Epoch 1/100\n",
      "\u001b[1m50/50\u001b[0m \u001b[32m━━━━━━━━━━━━━━━━━━━━\u001b[0m\u001b[37m\u001b[0m \u001b[1m5s\u001b[0m 25ms/step - accuracy: 0.6548 - loss: 3.1394 - val_accuracy: 0.5772 - val_loss: 1.8113\n",
      "Epoch 2/100\n",
      "\u001b[1m50/50\u001b[0m \u001b[32m━━━━━━━━━━━━━━━━━━━━\u001b[0m\u001b[37m\u001b[0m \u001b[1m2s\u001b[0m 13ms/step - accuracy: 0.6227 - loss: 1.4678 - val_accuracy: 0.5366 - val_loss: 1.1474\n",
      "Epoch 3/100\n",
      "\u001b[1m50/50\u001b[0m \u001b[32m━━━━━━━━━━━━━━━━━━━━\u001b[0m\u001b[37m\u001b[0m \u001b[1m1s\u001b[0m 10ms/step - accuracy: 0.5591 - loss: 1.0827 - val_accuracy: 0.4715 - val_loss: 1.0104\n",
      "Epoch 4/100\n",
      "\u001b[1m50/50\u001b[0m \u001b[32m━━━━━━━━━━━━━━━━━━━━\u001b[0m\u001b[37m\u001b[0m \u001b[1m0s\u001b[0m 7ms/step - accuracy: 0.4791 - loss: 0.9263 - val_accuracy: 0.4797 - val_loss: 0.9911\n",
      "Epoch 5/100\n",
      "\u001b[1m50/50\u001b[0m \u001b[32m━━━━━━━━━━━━━━━━━━━━\u001b[0m\u001b[37m\u001b[0m \u001b[1m0s\u001b[0m 5ms/step - accuracy: 0.5027 - loss: 0.8710 - val_accuracy: 0.4878 - val_loss: 0.9064\n",
      "Epoch 6/100\n",
      "\u001b[1m50/50\u001b[0m \u001b[32m━━━━━━━━━━━━━━━━━━━━\u001b[0m\u001b[37m\u001b[0m \u001b[1m0s\u001b[0m 5ms/step - accuracy: 0.5278 - loss: 0.7887 - val_accuracy: 0.5203 - val_loss: 0.8583\n",
      "Epoch 7/100\n",
      "\u001b[1m50/50\u001b[0m \u001b[32m━━━━━━━━━━━━━━━━━━━━\u001b[0m\u001b[37m\u001b[0m \u001b[1m0s\u001b[0m 5ms/step - accuracy: 0.6287 - loss: 0.7375 - val_accuracy: 0.5854 - val_loss: 0.9142\n",
      "Epoch 8/100\n",
      "\u001b[1m50/50\u001b[0m \u001b[32m━━━━━━━━━━━━━━━━━━━━\u001b[0m\u001b[37m\u001b[0m \u001b[1m0s\u001b[0m 6ms/step - accuracy: 0.6996 - loss: 0.7890 - val_accuracy: 0.5528 - val_loss: 0.8240\n",
      "Epoch 9/100\n",
      "\u001b[1m50/50\u001b[0m \u001b[32m━━━━━━━━━━━━━━━━━━━━\u001b[0m\u001b[37m\u001b[0m \u001b[1m0s\u001b[0m 6ms/step - accuracy: 0.6449 - loss: 0.7643 - val_accuracy: 0.6016 - val_loss: 0.8462\n",
      "Epoch 10/100\n",
      "\u001b[1m50/50\u001b[0m \u001b[32m━━━━━━━━━━━━━━━━━━━━\u001b[0m\u001b[37m\u001b[0m \u001b[1m1s\u001b[0m 6ms/step - accuracy: 0.6787 - loss: 0.7271 - val_accuracy: 0.5854 - val_loss: 0.7788\n",
      "Epoch 11/100\n",
      "\u001b[1m50/50\u001b[0m \u001b[32m━━━━━━━━━━━━━━━━━━━━\u001b[0m\u001b[37m\u001b[0m \u001b[1m1s\u001b[0m 13ms/step - accuracy: 0.6662 - loss: 0.6943 - val_accuracy: 0.6016 - val_loss: 0.7802\n",
      "Epoch 12/100\n",
      "\u001b[1m50/50\u001b[0m \u001b[32m━━━━━━━━━━━━━━━━━━━━\u001b[0m\u001b[37m\u001b[0m \u001b[1m0s\u001b[0m 7ms/step - accuracy: 0.6706 - loss: 0.6763 - val_accuracy: 0.5691 - val_loss: 0.7508\n",
      "Epoch 13/100\n",
      "\u001b[1m50/50\u001b[0m \u001b[32m━━━━━━━━━━━━━━━━━━━━\u001b[0m\u001b[37m\u001b[0m \u001b[1m1s\u001b[0m 11ms/step - accuracy: 0.6754 - loss: 0.6259 - val_accuracy: 0.5610 - val_loss: 0.7381\n",
      "Epoch 14/100\n",
      "\u001b[1m50/50\u001b[0m \u001b[32m━━━━━━━━━━━━━━━━━━━━\u001b[0m\u001b[37m\u001b[0m \u001b[1m1s\u001b[0m 9ms/step - accuracy: 0.6732 - loss: 0.6922 - val_accuracy: 0.6016 - val_loss: 0.7395\n",
      "Epoch 15/100\n",
      "\u001b[1m50/50\u001b[0m \u001b[32m━━━━━━━━━━━━━━━━━━━━\u001b[0m\u001b[37m\u001b[0m \u001b[1m1s\u001b[0m 10ms/step - accuracy: 0.6700 - loss: 0.6756 - val_accuracy: 0.5691 - val_loss: 0.7331\n",
      "Epoch 16/100\n",
      "\u001b[1m50/50\u001b[0m \u001b[32m━━━━━━━━━━━━━━━━━━━━\u001b[0m\u001b[37m\u001b[0m \u001b[1m1s\u001b[0m 12ms/step - accuracy: 0.6619 - loss: 0.6566 - val_accuracy: 0.5854 - val_loss: 0.7416\n",
      "Epoch 17/100\n",
      "\u001b[1m50/50\u001b[0m \u001b[32m━━━━━━━━━━━━━━━━━━━━\u001b[0m\u001b[37m\u001b[0m \u001b[1m1s\u001b[0m 6ms/step - accuracy: 0.7117 - loss: 0.6355 - val_accuracy: 0.6016 - val_loss: 0.7401\n",
      "Epoch 18/100\n",
      "\u001b[1m50/50\u001b[0m \u001b[32m━━━━━━━━━━━━━━━━━━━━\u001b[0m\u001b[37m\u001b[0m \u001b[1m1s\u001b[0m 6ms/step - accuracy: 0.7137 - loss: 0.6369 - val_accuracy: 0.6098 - val_loss: 0.7141\n",
      "Epoch 19/100\n",
      "\u001b[1m50/50\u001b[0m \u001b[32m━━━━━━━━━━━━━━━━━━━━\u001b[0m\u001b[37m\u001b[0m \u001b[1m0s\u001b[0m 5ms/step - accuracy: 0.7128 - loss: 0.6250 - val_accuracy: 0.6341 - val_loss: 0.7072\n",
      "Epoch 20/100\n",
      "\u001b[1m50/50\u001b[0m \u001b[32m━━━━━━━━━━━━━━━━━━━━\u001b[0m\u001b[37m\u001b[0m \u001b[1m0s\u001b[0m 5ms/step - accuracy: 0.7285 - loss: 0.5989 - val_accuracy: 0.6098 - val_loss: 0.7103\n",
      "Epoch 21/100\n",
      "\u001b[1m50/50\u001b[0m \u001b[32m━━━━━━━━━━━━━━━━━━━━\u001b[0m\u001b[37m\u001b[0m \u001b[1m1s\u001b[0m 6ms/step - accuracy: 0.7137 - loss: 0.6072 - val_accuracy: 0.6423 - val_loss: 0.6997\n",
      "Epoch 22/100\n",
      "\u001b[1m50/50\u001b[0m \u001b[32m━━━━━━━━━━━━━━━━━━━━\u001b[0m\u001b[37m\u001b[0m \u001b[1m0s\u001b[0m 8ms/step - accuracy: 0.6885 - loss: 0.6438 - val_accuracy: 0.6341 - val_loss: 0.6969\n",
      "Epoch 23/100\n",
      "\u001b[1m50/50\u001b[0m \u001b[32m━━━━━━━━━━━━━━━━━━━━\u001b[0m\u001b[37m\u001b[0m \u001b[1m0s\u001b[0m 5ms/step - accuracy: 0.7171 - loss: 0.6103 - val_accuracy: 0.6260 - val_loss: 0.6883\n",
      "Epoch 24/100\n",
      "\u001b[1m50/50\u001b[0m \u001b[32m━━━━━━━━━━━━━━━━━━━━\u001b[0m\u001b[37m\u001b[0m \u001b[1m0s\u001b[0m 5ms/step - accuracy: 0.7221 - loss: 0.6035 - val_accuracy: 0.6098 - val_loss: 0.6963\n",
      "Epoch 25/100\n",
      "\u001b[1m50/50\u001b[0m \u001b[32m━━━━━━━━━━━━━━━━━━━━\u001b[0m\u001b[37m\u001b[0m \u001b[1m0s\u001b[0m 5ms/step - accuracy: 0.6750 - loss: 0.6338 - val_accuracy: 0.6179 - val_loss: 0.6861\n",
      "Epoch 26/100\n",
      "\u001b[1m50/50\u001b[0m \u001b[32m━━━━━━━━━━━━━━━━━━━━\u001b[0m\u001b[37m\u001b[0m \u001b[1m0s\u001b[0m 7ms/step - accuracy: 0.7000 - loss: 0.6028 - val_accuracy: 0.6179 - val_loss: 0.6836\n",
      "Epoch 27/100\n",
      "\u001b[1m50/50\u001b[0m \u001b[32m━━━━━━━━━━━━━━━━━━━━\u001b[0m\u001b[37m\u001b[0m \u001b[1m1s\u001b[0m 11ms/step - accuracy: 0.7270 - loss: 0.5887 - val_accuracy: 0.6341 - val_loss: 0.6765\n",
      "Epoch 28/100\n",
      "\u001b[1m50/50\u001b[0m \u001b[32m━━━━━━━━━━━━━━━━━━━━\u001b[0m\u001b[37m\u001b[0m \u001b[1m1s\u001b[0m 7ms/step - accuracy: 0.6992 - loss: 0.5910 - val_accuracy: 0.6423 - val_loss: 0.7000\n",
      "Epoch 29/100\n",
      "\u001b[1m50/50\u001b[0m \u001b[32m━━━━━━━━━━━━━━━━━━━━\u001b[0m\u001b[37m\u001b[0m \u001b[1m0s\u001b[0m 6ms/step - accuracy: 0.7000 - loss: 0.6130 - val_accuracy: 0.6423 - val_loss: 0.7082\n",
      "Epoch 30/100\n",
      "\u001b[1m50/50\u001b[0m \u001b[32m━━━━━━━━━━━━━━━━━━━━\u001b[0m\u001b[37m\u001b[0m \u001b[1m0s\u001b[0m 5ms/step - accuracy: 0.6508 - loss: 0.6770 - val_accuracy: 0.6260 - val_loss: 0.6778\n",
      "Epoch 31/100\n",
      "\u001b[1m50/50\u001b[0m \u001b[32m━━━━━━━━━━━━━━━━━━━━\u001b[0m\u001b[37m\u001b[0m \u001b[1m0s\u001b[0m 4ms/step - accuracy: 0.7145 - loss: 0.6012 - val_accuracy: 0.6585 - val_loss: 0.6605\n",
      "Epoch 32/100\n",
      "\u001b[1m50/50\u001b[0m \u001b[32m━━━━━━━━━━━━━━━━━━━━\u001b[0m\u001b[37m\u001b[0m \u001b[1m0s\u001b[0m 6ms/step - accuracy: 0.6627 - loss: 0.6070 - val_accuracy: 0.6748 - val_loss: 0.6542\n",
      "Epoch 33/100\n",
      "\u001b[1m50/50\u001b[0m \u001b[32m━━━━━━━━━━━━━━━━━━━━\u001b[0m\u001b[37m\u001b[0m \u001b[1m1s\u001b[0m 10ms/step - accuracy: 0.7218 - loss: 0.6010 - val_accuracy: 0.6585 - val_loss: 0.6625\n",
      "Epoch 34/100\n",
      "\u001b[1m50/50\u001b[0m \u001b[32m━━━━━━━━━━━━━━━━━━━━\u001b[0m\u001b[37m\u001b[0m \u001b[1m0s\u001b[0m 4ms/step - accuracy: 0.7016 - loss: 0.6013 - val_accuracy: 0.6423 - val_loss: 0.6650\n",
      "Epoch 35/100\n",
      "\u001b[1m50/50\u001b[0m \u001b[32m━━━━━━━━━━━━━━━━━━━━\u001b[0m\u001b[37m\u001b[0m \u001b[1m0s\u001b[0m 6ms/step - accuracy: 0.6919 - loss: 0.5996 - val_accuracy: 0.6667 - val_loss: 0.6561\n",
      "Epoch 36/100\n",
      "\u001b[1m50/50\u001b[0m \u001b[32m━━━━━━━━━━━━━━━━━━━━\u001b[0m\u001b[37m\u001b[0m \u001b[1m0s\u001b[0m 5ms/step - accuracy: 0.6910 - loss: 0.6076 - val_accuracy: 0.6423 - val_loss: 0.6521\n",
      "Epoch 37/100\n",
      "\u001b[1m50/50\u001b[0m \u001b[32m━━━━━━━━━━━━━━━━━━━━\u001b[0m\u001b[37m\u001b[0m \u001b[1m0s\u001b[0m 6ms/step - accuracy: 0.7196 - loss: 0.5888 - val_accuracy: 0.6585 - val_loss: 0.6789\n",
      "Epoch 38/100\n",
      "\u001b[1m50/50\u001b[0m \u001b[32m━━━━━━━━━━━━━━━━━━━━\u001b[0m\u001b[37m\u001b[0m \u001b[1m0s\u001b[0m 7ms/step - accuracy: 0.7202 - loss: 0.5836 - val_accuracy: 0.6504 - val_loss: 0.6614\n",
      "Epoch 39/100\n",
      "\u001b[1m50/50\u001b[0m \u001b[32m━━━━━━━━━━━━━━━━━━━━\u001b[0m\u001b[37m\u001b[0m \u001b[1m0s\u001b[0m 5ms/step - accuracy: 0.7334 - loss: 0.5660 - val_accuracy: 0.6504 - val_loss: 0.6557\n",
      "Epoch 40/100\n",
      "\u001b[1m50/50\u001b[0m \u001b[32m━━━━━━━━━━━━━━━━━━━━\u001b[0m\u001b[37m\u001b[0m \u001b[1m0s\u001b[0m 5ms/step - accuracy: 0.6954 - loss: 0.6100 - val_accuracy: 0.6748 - val_loss: 0.6404\n",
      "Epoch 41/100\n",
      "\u001b[1m50/50\u001b[0m \u001b[32m━━━━━━━━━━━━━━━━━━━━\u001b[0m\u001b[37m\u001b[0m \u001b[1m0s\u001b[0m 6ms/step - accuracy: 0.6870 - loss: 0.6125 - val_accuracy: 0.6585 - val_loss: 0.7334\n",
      "Epoch 42/100\n",
      "\u001b[1m50/50\u001b[0m \u001b[32m━━━━━━━━━━━━━━━━━━━━\u001b[0m\u001b[37m\u001b[0m \u001b[1m0s\u001b[0m 5ms/step - accuracy: 0.6853 - loss: 0.5989 - val_accuracy: 0.6667 - val_loss: 0.6508\n",
      "Epoch 43/100\n",
      "\u001b[1m50/50\u001b[0m \u001b[32m━━━━━━━━━━━━━━━━━━━━\u001b[0m\u001b[37m\u001b[0m \u001b[1m0s\u001b[0m 9ms/step - accuracy: 0.7354 - loss: 0.5582 - val_accuracy: 0.6748 - val_loss: 0.6412\n",
      "Epoch 44/100\n",
      "\u001b[1m50/50\u001b[0m \u001b[32m━━━━━━━━━━━━━━━━━━━━\u001b[0m\u001b[37m\u001b[0m \u001b[1m1s\u001b[0m 6ms/step - accuracy: 0.7127 - loss: 0.5775 - val_accuracy: 0.6829 - val_loss: 0.6488\n",
      "Epoch 45/100\n",
      "\u001b[1m50/50\u001b[0m \u001b[32m━━━━━━━━━━━━━━━━━━━━\u001b[0m\u001b[37m\u001b[0m \u001b[1m0s\u001b[0m 8ms/step - accuracy: 0.7457 - loss: 0.5451 - val_accuracy: 0.6667 - val_loss: 0.6413\n",
      "Epoch 46/100\n",
      "\u001b[1m50/50\u001b[0m \u001b[32m━━━━━━━━━━━━━━━━━━━━\u001b[0m\u001b[37m\u001b[0m \u001b[1m1s\u001b[0m 6ms/step - accuracy: 0.7442 - loss: 0.5480 - val_accuracy: 0.6585 - val_loss: 0.6331\n",
      "Epoch 47/100\n",
      "\u001b[1m50/50\u001b[0m \u001b[32m━━━━━━━━━━━━━━━━━━━━\u001b[0m\u001b[37m\u001b[0m \u001b[1m0s\u001b[0m 7ms/step - accuracy: 0.7334 - loss: 0.5726 - val_accuracy: 0.6667 - val_loss: 0.6396\n",
      "Epoch 48/100\n",
      "\u001b[1m50/50\u001b[0m \u001b[32m━━━━━━━━━━━━━━━━━━━━\u001b[0m\u001b[37m\u001b[0m \u001b[1m1s\u001b[0m 9ms/step - accuracy: 0.7316 - loss: 0.5510 - val_accuracy: 0.6829 - val_loss: 0.6443\n",
      "Epoch 49/100\n",
      "\u001b[1m50/50\u001b[0m \u001b[32m━━━━━━━━━━━━━━━━━━━━\u001b[0m\u001b[37m\u001b[0m \u001b[1m0s\u001b[0m 8ms/step - accuracy: 0.7362 - loss: 0.6029 - val_accuracy: 0.6748 - val_loss: 0.6269\n",
      "Epoch 50/100\n",
      "\u001b[1m50/50\u001b[0m \u001b[32m━━━━━━━━━━━━━━━━━━━━\u001b[0m\u001b[37m\u001b[0m \u001b[1m0s\u001b[0m 7ms/step - accuracy: 0.7384 - loss: 0.5688 - val_accuracy: 0.6748 - val_loss: 0.6236\n",
      "Epoch 51/100\n",
      "\u001b[1m50/50\u001b[0m \u001b[32m━━━━━━━━━━━━━━━━━━━━\u001b[0m\u001b[37m\u001b[0m \u001b[1m0s\u001b[0m 6ms/step - accuracy: 0.7181 - loss: 0.5925 - val_accuracy: 0.6504 - val_loss: 0.6376\n",
      "Epoch 52/100\n",
      "\u001b[1m50/50\u001b[0m \u001b[32m━━━━━━━━━━━━━━━━━━━━\u001b[0m\u001b[37m\u001b[0m \u001b[1m0s\u001b[0m 8ms/step - accuracy: 0.7448 - loss: 0.5525 - val_accuracy: 0.6667 - val_loss: 0.6268\n",
      "Epoch 53/100\n",
      "\u001b[1m50/50\u001b[0m \u001b[32m━━━━━━━━━━━━━━━━━━━━\u001b[0m\u001b[37m\u001b[0m \u001b[1m0s\u001b[0m 8ms/step - accuracy: 0.7096 - loss: 0.6084 - val_accuracy: 0.6423 - val_loss: 0.6288\n",
      "Epoch 54/100\n",
      "\u001b[1m50/50\u001b[0m \u001b[32m━━━━━━━━━━━━━━━━━━━━\u001b[0m\u001b[37m\u001b[0m \u001b[1m1s\u001b[0m 9ms/step - accuracy: 0.7486 - loss: 0.5525 - val_accuracy: 0.6911 - val_loss: 0.6222\n",
      "Epoch 55/100\n",
      "\u001b[1m50/50\u001b[0m \u001b[32m━━━━━━━━━━━━━━━━━━━━\u001b[0m\u001b[37m\u001b[0m \u001b[1m1s\u001b[0m 7ms/step - accuracy: 0.7676 - loss: 0.5267 - val_accuracy: 0.6341 - val_loss: 0.6877\n",
      "Epoch 56/100\n",
      "\u001b[1m50/50\u001b[0m \u001b[32m━━━━━━━━━━━━━━━━━━━━\u001b[0m\u001b[37m\u001b[0m \u001b[1m0s\u001b[0m 7ms/step - accuracy: 0.7207 - loss: 0.5742 - val_accuracy: 0.6829 - val_loss: 0.6167\n",
      "Epoch 57/100\n",
      "\u001b[1m50/50\u001b[0m \u001b[32m━━━━━━━━━━━━━━━━━━━━\u001b[0m\u001b[37m\u001b[0m \u001b[1m0s\u001b[0m 8ms/step - accuracy: 0.7922 - loss: 0.5202 - val_accuracy: 0.6911 - val_loss: 0.6155\n",
      "Epoch 58/100\n",
      "\u001b[1m50/50\u001b[0m \u001b[32m━━━━━━━━━━━━━━━━━━━━\u001b[0m\u001b[37m\u001b[0m \u001b[1m0s\u001b[0m 7ms/step - accuracy: 0.7415 - loss: 0.5611 - val_accuracy: 0.6911 - val_loss: 0.6137\n",
      "Epoch 59/100\n",
      "\u001b[1m50/50\u001b[0m \u001b[32m━━━━━━━━━━━━━━━━━━━━\u001b[0m\u001b[37m\u001b[0m \u001b[1m0s\u001b[0m 6ms/step - accuracy: 0.7297 - loss: 0.5588 - val_accuracy: 0.6829 - val_loss: 0.6151\n",
      "Epoch 60/100\n",
      "\u001b[1m50/50\u001b[0m \u001b[32m━━━━━━━━━━━━━━━━━━━━\u001b[0m\u001b[37m\u001b[0m \u001b[1m0s\u001b[0m 7ms/step - accuracy: 0.7602 - loss: 0.5024 - val_accuracy: 0.6667 - val_loss: 0.6367\n",
      "Epoch 61/100\n",
      "\u001b[1m50/50\u001b[0m \u001b[32m━━━━━━━━━━━━━━━━━━━━\u001b[0m\u001b[37m\u001b[0m \u001b[1m0s\u001b[0m 6ms/step - accuracy: 0.7238 - loss: 0.5456 - val_accuracy: 0.6829 - val_loss: 0.6066\n",
      "Epoch 62/100\n",
      "\u001b[1m50/50\u001b[0m \u001b[32m━━━━━━━━━━━━━━━━━━━━\u001b[0m\u001b[37m\u001b[0m \u001b[1m0s\u001b[0m 8ms/step - accuracy: 0.7047 - loss: 0.5868 - val_accuracy: 0.6748 - val_loss: 0.6112\n",
      "Epoch 63/100\n",
      "\u001b[1m50/50\u001b[0m \u001b[32m━━━━━━━━━━━━━━━━━━━━\u001b[0m\u001b[37m\u001b[0m \u001b[1m1s\u001b[0m 13ms/step - accuracy: 0.7208 - loss: 0.5695 - val_accuracy: 0.6585 - val_loss: 0.6176\n",
      "Epoch 64/100\n",
      "\u001b[1m50/50\u001b[0m \u001b[32m━━━━━━━━━━━━━━━━━━━━\u001b[0m\u001b[37m\u001b[0m \u001b[1m1s\u001b[0m 8ms/step - accuracy: 0.7445 - loss: 0.5338 - val_accuracy: 0.6748 - val_loss: 0.6279\n",
      "Epoch 65/100\n",
      "\u001b[1m50/50\u001b[0m \u001b[32m━━━━━━━━━━━━━━━━━━━━\u001b[0m\u001b[37m\u001b[0m \u001b[1m1s\u001b[0m 8ms/step - accuracy: 0.7374 - loss: 0.5450 - val_accuracy: 0.6911 - val_loss: 0.6032\n",
      "Epoch 66/100\n",
      "\u001b[1m50/50\u001b[0m \u001b[32m━━━━━━━━━━━━━━━━━━━━\u001b[0m\u001b[37m\u001b[0m \u001b[1m0s\u001b[0m 7ms/step - accuracy: 0.7560 - loss: 0.5155 - val_accuracy: 0.6829 - val_loss: 0.6117\n",
      "Epoch 67/100\n",
      "\u001b[1m50/50\u001b[0m \u001b[32m━━━━━━━━━━━━━━━━━━━━\u001b[0m\u001b[37m\u001b[0m \u001b[1m1s\u001b[0m 8ms/step - accuracy: 0.7346 - loss: 0.5426 - val_accuracy: 0.6667 - val_loss: 0.6124\n",
      "Epoch 68/100\n",
      "\u001b[1m50/50\u001b[0m \u001b[32m━━━━━━━━━━━━━━━━━━━━\u001b[0m\u001b[37m\u001b[0m \u001b[1m0s\u001b[0m 7ms/step - accuracy: 0.7581 - loss: 0.5207 - val_accuracy: 0.6829 - val_loss: 0.6056\n",
      "Epoch 69/100\n",
      "\u001b[1m50/50\u001b[0m \u001b[32m━━━━━━━━━━━━━━━━━━━━\u001b[0m\u001b[37m\u001b[0m \u001b[1m0s\u001b[0m 7ms/step - accuracy: 0.7443 - loss: 0.5412 - val_accuracy: 0.6911 - val_loss: 0.6044\n",
      "Epoch 70/100\n",
      "\u001b[1m50/50\u001b[0m \u001b[32m━━━━━━━━━━━━━━━━━━━━\u001b[0m\u001b[37m\u001b[0m \u001b[1m0s\u001b[0m 8ms/step - accuracy: 0.7473 - loss: 0.5213 - val_accuracy: 0.6341 - val_loss: 0.6332\n",
      "Epoch 71/100\n",
      "\u001b[1m50/50\u001b[0m \u001b[32m━━━━━━━━━━━━━━━━━━━━\u001b[0m\u001b[37m\u001b[0m \u001b[1m1s\u001b[0m 10ms/step - accuracy: 0.7670 - loss: 0.5156 - val_accuracy: 0.6829 - val_loss: 0.6099\n",
      "Epoch 72/100\n",
      "\u001b[1m50/50\u001b[0m \u001b[32m━━━━━━━━━━━━━━━━━━━━\u001b[0m\u001b[37m\u001b[0m \u001b[1m0s\u001b[0m 8ms/step - accuracy: 0.7585 - loss: 0.5053 - val_accuracy: 0.6585 - val_loss: 0.6040\n",
      "Epoch 73/100\n",
      "\u001b[1m50/50\u001b[0m \u001b[32m━━━━━━━━━━━━━━━━━━━━\u001b[0m\u001b[37m\u001b[0m \u001b[1m1s\u001b[0m 7ms/step - accuracy: 0.7530 - loss: 0.5259 - val_accuracy: 0.6829 - val_loss: 0.6096\n",
      "Epoch 74/100\n",
      "\u001b[1m50/50\u001b[0m \u001b[32m━━━━━━━━━━━━━━━━━━━━\u001b[0m\u001b[37m\u001b[0m \u001b[1m1s\u001b[0m 7ms/step - accuracy: 0.7692 - loss: 0.5235 - val_accuracy: 0.6829 - val_loss: 0.6087\n",
      "Epoch 75/100\n",
      "\u001b[1m50/50\u001b[0m \u001b[32m━━━━━━━━━━━━━━━━━━━━\u001b[0m\u001b[37m\u001b[0m \u001b[1m0s\u001b[0m 5ms/step - accuracy: 0.7300 - loss: 0.5683 - val_accuracy: 0.6585 - val_loss: 0.6193\n",
      "Epoch 76/100\n",
      "\u001b[1m50/50\u001b[0m \u001b[32m━━━━━━━━━━━━━━━━━━━━\u001b[0m\u001b[37m\u001b[0m \u001b[1m0s\u001b[0m 5ms/step - accuracy: 0.7576 - loss: 0.5330 - val_accuracy: 0.6748 - val_loss: 0.6200\n",
      "Epoch 77/100\n",
      "\u001b[1m50/50\u001b[0m \u001b[32m━━━━━━━━━━━━━━━━━━━━\u001b[0m\u001b[37m\u001b[0m \u001b[1m0s\u001b[0m 5ms/step - accuracy: 0.7674 - loss: 0.5264 - val_accuracy: 0.6504 - val_loss: 0.6296\n",
      "Epoch 78/100\n",
      "\u001b[1m50/50\u001b[0m \u001b[32m━━━━━━━━━━━━━━━━━━━━\u001b[0m\u001b[37m\u001b[0m \u001b[1m0s\u001b[0m 6ms/step - accuracy: 0.7350 - loss: 0.5349 - val_accuracy: 0.6992 - val_loss: 0.5956\n",
      "Epoch 79/100\n",
      "\u001b[1m50/50\u001b[0m \u001b[32m━━━━━━━━━━━━━━━━━━━━\u001b[0m\u001b[37m\u001b[0m \u001b[1m1s\u001b[0m 6ms/step - accuracy: 0.7597 - loss: 0.5274 - val_accuracy: 0.6423 - val_loss: 0.6091\n",
      "Epoch 80/100\n",
      "\u001b[1m50/50\u001b[0m \u001b[32m━━━━━━━━━━━━━━━━━━━━\u001b[0m\u001b[37m\u001b[0m \u001b[1m0s\u001b[0m 5ms/step - accuracy: 0.7108 - loss: 0.5522 - val_accuracy: 0.6667 - val_loss: 0.5997\n",
      "Epoch 81/100\n",
      "\u001b[1m50/50\u001b[0m \u001b[32m━━━━━━━━━━━━━━━━━━━━\u001b[0m\u001b[37m\u001b[0m \u001b[1m0s\u001b[0m 7ms/step - accuracy: 0.7511 - loss: 0.5175 - val_accuracy: 0.6504 - val_loss: 0.6461\n",
      "Epoch 82/100\n",
      "\u001b[1m50/50\u001b[0m \u001b[32m━━━━━━━━━━━━━━━━━━━━\u001b[0m\u001b[37m\u001b[0m \u001b[1m0s\u001b[0m 6ms/step - accuracy: 0.7189 - loss: 0.5301 - val_accuracy: 0.6585 - val_loss: 0.6198\n",
      "Epoch 83/100\n",
      "\u001b[1m50/50\u001b[0m \u001b[32m━━━━━━━━━━━━━━━━━━━━\u001b[0m\u001b[37m\u001b[0m \u001b[1m0s\u001b[0m 6ms/step - accuracy: 0.7700 - loss: 0.5162 - val_accuracy: 0.6504 - val_loss: 0.5980\n",
      "Epoch 84/100\n",
      "\u001b[1m50/50\u001b[0m \u001b[32m━━━━━━━━━━━━━━━━━━━━\u001b[0m\u001b[37m\u001b[0m \u001b[1m0s\u001b[0m 8ms/step - accuracy: 0.7758 - loss: 0.5152 - val_accuracy: 0.6911 - val_loss: 0.5886\n",
      "Epoch 85/100\n",
      "\u001b[1m50/50\u001b[0m \u001b[32m━━━━━━━━━━━━━━━━━━━━\u001b[0m\u001b[37m\u001b[0m \u001b[1m1s\u001b[0m 7ms/step - accuracy: 0.7548 - loss: 0.5203 - val_accuracy: 0.6748 - val_loss: 0.5950\n",
      "Epoch 86/100\n",
      "\u001b[1m50/50\u001b[0m \u001b[32m━━━━━━━━━━━━━━━━━━━━\u001b[0m\u001b[37m\u001b[0m \u001b[1m1s\u001b[0m 6ms/step - accuracy: 0.7584 - loss: 0.5114 - val_accuracy: 0.6667 - val_loss: 0.6076\n",
      "Epoch 87/100\n",
      "\u001b[1m50/50\u001b[0m \u001b[32m━━━━━━━━━━━━━━━━━━━━\u001b[0m\u001b[37m\u001b[0m \u001b[1m1s\u001b[0m 5ms/step - accuracy: 0.7596 - loss: 0.5153 - val_accuracy: 0.6423 - val_loss: 0.6281\n",
      "Epoch 88/100\n",
      "\u001b[1m50/50\u001b[0m \u001b[32m━━━━━━━━━━━━━━━━━━━━\u001b[0m\u001b[37m\u001b[0m \u001b[1m0s\u001b[0m 5ms/step - accuracy: 0.7432 - loss: 0.5394 - val_accuracy: 0.6667 - val_loss: 0.6073\n",
      "Epoch 89/100\n",
      "\u001b[1m50/50\u001b[0m \u001b[32m━━━━━━━━━━━━━━━━━━━━\u001b[0m\u001b[37m\u001b[0m \u001b[1m0s\u001b[0m 6ms/step - accuracy: 0.7510 - loss: 0.5195 - val_accuracy: 0.6829 - val_loss: 0.6028\n",
      "Epoch 90/100\n",
      "\u001b[1m50/50\u001b[0m \u001b[32m━━━━━━━━━━━━━━━━━━━━\u001b[0m\u001b[37m\u001b[0m \u001b[1m1s\u001b[0m 5ms/step - accuracy: 0.7361 - loss: 0.5193 - val_accuracy: 0.7073 - val_loss: 0.5923\n",
      "Epoch 91/100\n",
      "\u001b[1m50/50\u001b[0m \u001b[32m━━━━━━━━━━━━━━━━━━━━\u001b[0m\u001b[37m\u001b[0m \u001b[1m0s\u001b[0m 5ms/step - accuracy: 0.7230 - loss: 0.5134 - val_accuracy: 0.6667 - val_loss: 0.5957\n",
      "Epoch 92/100\n",
      "\u001b[1m50/50\u001b[0m \u001b[32m━━━━━━━━━━━━━━━━━━━━\u001b[0m\u001b[37m\u001b[0m \u001b[1m0s\u001b[0m 5ms/step - accuracy: 0.7394 - loss: 0.5212 - val_accuracy: 0.6829 - val_loss: 0.5943\n",
      "Epoch 93/100\n",
      "\u001b[1m50/50\u001b[0m \u001b[32m━━━━━━━━━━━━━━━━━━━━\u001b[0m\u001b[37m\u001b[0m \u001b[1m0s\u001b[0m 5ms/step - accuracy: 0.7451 - loss: 0.5165 - val_accuracy: 0.6911 - val_loss: 0.5828\n",
      "Epoch 94/100\n",
      "\u001b[1m50/50\u001b[0m \u001b[32m━━━━━━━━━━━━━━━━━━━━\u001b[0m\u001b[37m\u001b[0m \u001b[1m0s\u001b[0m 5ms/step - accuracy: 0.7306 - loss: 0.5627 - val_accuracy: 0.6829 - val_loss: 0.5889\n",
      "Epoch 95/100\n",
      "\u001b[1m50/50\u001b[0m \u001b[32m━━━━━━━━━━━━━━━━━━━━\u001b[0m\u001b[37m\u001b[0m \u001b[1m0s\u001b[0m 5ms/step - accuracy: 0.7589 - loss: 0.5132 - val_accuracy: 0.6911 - val_loss: 0.5827\n",
      "Epoch 96/100\n",
      "\u001b[1m50/50\u001b[0m \u001b[32m━━━━━━━━━━━━━━━━━━━━\u001b[0m\u001b[37m\u001b[0m \u001b[1m0s\u001b[0m 5ms/step - accuracy: 0.7528 - loss: 0.4893 - val_accuracy: 0.6504 - val_loss: 0.6029\n",
      "Epoch 97/100\n",
      "\u001b[1m50/50\u001b[0m \u001b[32m━━━━━━━━━━━━━━━━━━━━\u001b[0m\u001b[37m\u001b[0m \u001b[1m0s\u001b[0m 6ms/step - accuracy: 0.7538 - loss: 0.5276 - val_accuracy: 0.6992 - val_loss: 0.5774\n",
      "Epoch 98/100\n",
      "\u001b[1m50/50\u001b[0m \u001b[32m━━━━━━━━━━━━━━━━━━━━\u001b[0m\u001b[37m\u001b[0m \u001b[1m1s\u001b[0m 5ms/step - accuracy: 0.7607 - loss: 0.5142 - val_accuracy: 0.6748 - val_loss: 0.5866\n",
      "Epoch 99/100\n",
      "\u001b[1m50/50\u001b[0m \u001b[32m━━━━━━━━━━━━━━━━━━━━\u001b[0m\u001b[37m\u001b[0m \u001b[1m0s\u001b[0m 5ms/step - accuracy: 0.7847 - loss: 0.4943 - val_accuracy: 0.6911 - val_loss: 0.5796\n",
      "Epoch 100/100\n",
      "\u001b[1m50/50\u001b[0m \u001b[32m━━━━━━━━━━━━━━━━━━━━\u001b[0m\u001b[37m\u001b[0m \u001b[1m0s\u001b[0m 6ms/step - accuracy: 0.7804 - loss: 0.4853 - val_accuracy: 0.6748 - val_loss: 0.5776\n"
     ]
    }
   ],
   "source": [
    "history = model.fit(X_train, Y_train, validation_split = 0.2, epochs=100, batch_size=10)"
   ]
  },
  {
   "cell_type": "markdown",
   "id": "fba0847e",
   "metadata": {
    "id": "fba0847e"
   },
   "source": [
    "# Training history plots"
   ]
  },
  {
   "cell_type": "code",
   "execution_count": 16,
   "id": "c3aab4af",
   "metadata": {
    "id": "c3aab4af",
    "outputId": "883879e5-b0a9-4bd5-c468-e32a64c36a36",
    "scrolled": true
   },
   "outputs": [
    {
     "data": {
      "text/html": [
       "<div>\n",
       "<style scoped>\n",
       "    .dataframe tbody tr th:only-of-type {\n",
       "        vertical-align: middle;\n",
       "    }\n",
       "\n",
       "    .dataframe tbody tr th {\n",
       "        vertical-align: top;\n",
       "    }\n",
       "\n",
       "    .dataframe thead th {\n",
       "        text-align: right;\n",
       "    }\n",
       "</style>\n",
       "<table border=\"1\" class=\"dataframe\">\n",
       "  <thead>\n",
       "    <tr style=\"text-align: right;\">\n",
       "      <th></th>\n",
       "      <th>accuracy</th>\n",
       "      <th>loss</th>\n",
       "      <th>val_accuracy</th>\n",
       "      <th>val_loss</th>\n",
       "    </tr>\n",
       "  </thead>\n",
       "  <tbody>\n",
       "    <tr>\n",
       "      <th>0</th>\n",
       "      <td>0.635438</td>\n",
       "      <td>2.511020</td>\n",
       "      <td>0.577236</td>\n",
       "      <td>1.811337</td>\n",
       "    </tr>\n",
       "    <tr>\n",
       "      <th>1</th>\n",
       "      <td>0.606925</td>\n",
       "      <td>1.305336</td>\n",
       "      <td>0.536585</td>\n",
       "      <td>1.147397</td>\n",
       "    </tr>\n",
       "    <tr>\n",
       "      <th>2</th>\n",
       "      <td>0.545825</td>\n",
       "      <td>0.957472</td>\n",
       "      <td>0.471545</td>\n",
       "      <td>1.010412</td>\n",
       "    </tr>\n",
       "    <tr>\n",
       "      <th>3</th>\n",
       "      <td>0.521385</td>\n",
       "      <td>0.862540</td>\n",
       "      <td>0.479675</td>\n",
       "      <td>0.991121</td>\n",
       "    </tr>\n",
       "    <tr>\n",
       "      <th>4</th>\n",
       "      <td>0.513238</td>\n",
       "      <td>0.854123</td>\n",
       "      <td>0.487805</td>\n",
       "      <td>0.906413</td>\n",
       "    </tr>\n",
       "    <tr>\n",
       "      <th>...</th>\n",
       "      <td>...</td>\n",
       "      <td>...</td>\n",
       "      <td>...</td>\n",
       "      <td>...</td>\n",
       "    </tr>\n",
       "    <tr>\n",
       "      <th>95</th>\n",
       "      <td>0.743381</td>\n",
       "      <td>0.508935</td>\n",
       "      <td>0.650406</td>\n",
       "      <td>0.602868</td>\n",
       "    </tr>\n",
       "    <tr>\n",
       "      <th>96</th>\n",
       "      <td>0.763747</td>\n",
       "      <td>0.509386</td>\n",
       "      <td>0.699187</td>\n",
       "      <td>0.577403</td>\n",
       "    </tr>\n",
       "    <tr>\n",
       "      <th>97</th>\n",
       "      <td>0.759674</td>\n",
       "      <td>0.518892</td>\n",
       "      <td>0.674797</td>\n",
       "      <td>0.586561</td>\n",
       "    </tr>\n",
       "    <tr>\n",
       "      <th>98</th>\n",
       "      <td>0.753564</td>\n",
       "      <td>0.508055</td>\n",
       "      <td>0.691057</td>\n",
       "      <td>0.579554</td>\n",
       "    </tr>\n",
       "    <tr>\n",
       "      <th>99</th>\n",
       "      <td>0.757638</td>\n",
       "      <td>0.513472</td>\n",
       "      <td>0.674797</td>\n",
       "      <td>0.577594</td>\n",
       "    </tr>\n",
       "  </tbody>\n",
       "</table>\n",
       "<p>100 rows × 4 columns</p>\n",
       "</div>"
      ],
      "text/plain": [
       "    accuracy      loss  val_accuracy  val_loss\n",
       "0   0.635438  2.511020      0.577236  1.811337\n",
       "1   0.606925  1.305336      0.536585  1.147397\n",
       "2   0.545825  0.957472      0.471545  1.010412\n",
       "3   0.521385  0.862540      0.479675  0.991121\n",
       "4   0.513238  0.854123      0.487805  0.906413\n",
       "..       ...       ...           ...       ...\n",
       "95  0.743381  0.508935      0.650406  0.602868\n",
       "96  0.763747  0.509386      0.699187  0.577403\n",
       "97  0.759674  0.518892      0.674797  0.586561\n",
       "98  0.753564  0.508055      0.691057  0.579554\n",
       "99  0.757638  0.513472      0.674797  0.577594\n",
       "\n",
       "[100 rows x 4 columns]"
      ]
     },
     "execution_count": 16,
     "metadata": {},
     "output_type": "execute_result"
    }
   ],
   "source": [
    "result=pd.DataFrame(model.history.history)\n",
    "result"
   ]
  },
  {
   "cell_type": "code",
   "execution_count": 17,
   "id": "8379c4f1",
   "metadata": {
    "id": "8379c4f1",
    "outputId": "5b6e9fd1-9662-44e8-daed-7511c10b5264"
   },
   "outputs": [
    {
     "data": {
      "text/plain": [
       "<Axes: >"
      ]
     },
     "execution_count": 17,
     "metadata": {},
     "output_type": "execute_result"
    },
    {
     "data": {
      "image/png": "[encoded data removed]",
      "text/plain": [
       "<Figure size 640x480 with 1 Axes>"
      ]
     },
     "metadata": {},
     "output_type": "display_data"
    }
   ],
   "source": [
    "result.plot()"
   ]
  },
  {
   "cell_type": "code",
   "execution_count": 18,
   "id": "c64fa35a",
   "metadata": {
    "id": "c64fa35a",
    "outputId": "f3699409-db35-44ff-a7fb-b771c89dbecd"
   },
   "outputs": [
    {
     "name": "stdout",
     "output_type": "stream",
     "text": [
      "dict_keys(['accuracy', 'loss', 'val_accuracy', 'val_loss'])\n"
     ]
    },
    {
     "data": {
      "image/png": "[encoded data removed]",
      "text/plain": [
       "<Figure size 640x480 with 1 Axes>"
      ]
     },
     "metadata": {},
     "output_type": "display_data"
    },
    {
     "data": {
      "image/png": "[encoded data removed]",
      "text/plain": [
       "<Figure size 640x480 with 1 Axes>"
      ]
     },
     "metadata": {},
     "output_type": "display_data"
    }
   ],
   "source": [
    "print(history.history.keys())\n",
    "# summarize history for accuracy\n",
    "plt.plot(history.history['accuracy'])\n",
    "plt.plot(history.history['val_accuracy'])\n",
    "plt.title('model accuracy')\n",
    "plt.ylabel('accuracy')\n",
    "plt.xlabel('epoch')\n",
    "plt.legend(['train', 'validation'], loc='upper left')\n",
    "plt.show()\n",
    "# summarize history for loss\n",
    "plt.plot(history.history['loss'])\n",
    "plt.plot(history.history['val_loss'])\n",
    "plt.title('model loss')\n",
    "plt.ylabel('loss')\n",
    "plt.xlabel('epoch')\n",
    "plt.legend(['train', 'validation'], loc='upper left')\n",
    "plt.show()"
   ]
  },
  {
   "cell_type": "markdown",
   "id": "0c373a9b",
   "metadata": {
    "id": "0c373a9b"
   },
   "source": [
    "# Find Training Accuracy"
   ]
  },
  {
   "cell_type": "code",
   "execution_count": 19,
   "id": "90d3963e",
   "metadata": {
    "id": "90d3963e",
    "outputId": "7a8f9d71-9958-4d27-e5de-a5f0a2d0b5d3"
   },
   "outputs": [
    {
     "name": "stdout",
     "output_type": "stream",
     "text": [
      "\u001b[1m20/20\u001b[0m \u001b[32m━━━━━━━━━━━━━━━━━━━━\u001b[0m\u001b[37m\u001b[0m \u001b[1m0s\u001b[0m 9ms/step - accuracy: 0.7631 - loss: 0.4920\n",
      "Train Accuracy: 74.429965\n"
     ]
    }
   ],
   "source": [
    "#train accuracy\n",
    "_,accuracy = model.evaluate(X_train, Y_train)\n",
    "print('Train Accuracy: %2f'%(accuracy*100))"
   ]
  },
  {
   "cell_type": "markdown",
   "id": "0972d3b5",
   "metadata": {
    "id": "0972d3b5"
   },
   "source": [
    "# Find Testing Accuracy"
   ]
  },
  {
   "cell_type": "code",
   "execution_count": 20,
   "id": "99aa2614",
   "metadata": {
    "id": "99aa2614",
    "outputId": "b1e8bc85-c419-4a86-df64-d2931f73b588"
   },
   "outputs": [
    {
     "name": "stdout",
     "output_type": "stream",
     "text": [
      "\u001b[1m5/5\u001b[0m \u001b[32m━━━━━━━━━━━━━━━━━━━━\u001b[0m\u001b[37m\u001b[0m \u001b[1m0s\u001b[0m 40ms/step\n"
     ]
    },
    {
     "data": {
      "text/plain": [
       "0.6818181818181818"
      ]
     },
     "execution_count": 20,
     "metadata": {},
     "output_type": "execute_result"
    }
   ],
   "source": [
    "#test accuracy\n",
    "from sklearn.metrics import accuracy_score\n",
    "Y_pred=(model.predict(X_test) > 0.5).astype(\"int32\")\n",
    "accuracy_score(Y_test, Y_pred)"
   ]
  },
  {
   "cell_type": "code",
   "execution_count": 21,
   "id": "faee2e40",
   "metadata": {
    "id": "faee2e40",
    "outputId": "03252933-e813-4f63-a77a-5a1ae333ce23"
   },
   "outputs": [
    {
     "name": "stdout",
     "output_type": "stream",
     "text": [
      "              precision    recall  f1-score   support\n",
      "\n",
      "           0       0.71      0.85      0.77        99\n",
      "           1       0.58      0.38      0.46        55\n",
      "\n",
      "    accuracy                           0.68       154\n",
      "   macro avg       0.65      0.62      0.62       154\n",
      "weighted avg       0.67      0.68      0.66       154\n",
      "\n"
     ]
    }
   ],
   "source": [
    "from sklearn.metrics import classification_report\n",
    "print(classification_report(Y_test,Y_pred))"
   ]
  },
  {
   "cell_type": "code",
   "execution_count": 22,
   "id": "548d7640",
   "metadata": {
    "id": "548d7640",
    "outputId": "788afcac-0dc3-4368-9741-32323239376b"
   },
   "outputs": [
    {
     "name": "stdout",
     "output_type": "stream",
     "text": [
      "[[84 15]\n",
      " [34 21]]\n"
     ]
    }
   ],
   "source": [
    "from sklearn.metrics import confusion_matrix\n",
    "cm = confusion_matrix(Y_test,Y_pred)\n",
    "print(cm)"
   ]
  },
  {
   "cell_type": "code",
   "execution_count": 23,
   "id": "d80edd05",
   "metadata": {
    "id": "d80edd05",
    "outputId": "d572d109-b297-4919-9d4a-a08135ab25e4"
   },
   "outputs": [
    {
     "data": {
      "text/plain": [
       "Text(29.75, 0.5, 'Actual  outcome')"
      ]
     },
     "execution_count": 23,
     "metadata": {},
     "output_type": "execute_result"
    },
    {
     "data": {
      "image/png": "[encoded data removed]",
      "text/plain": [
       "<Figure size 500x300 with 2 Axes>"
      ]
     },
     "metadata": {},
     "output_type": "display_data"
    }
   ],
   "source": [
    "#print the confusion matrix\n",
    "sns.set(rc={'figure.figsize':(5,3)})\n",
    "sns.heatmap(cm,annot=True,cmap='PuBu_r',fmt='g')\n",
    "plt.xlabel(\"Predicted outcome\")\n",
    "plt.ylabel(\"Actual  outcome\")"
   ]
  },
  {
   "cell_type": "markdown",
   "id": "7108e5ba",
   "metadata": {
    "id": "7108e5ba"
   },
   "source": [
    "# Save and load"
   ]
  },
  {
   "cell_type": "code",
   "execution_count": 24,
   "id": "7d40930d",
   "metadata": {
    "id": "7d40930d",
    "outputId": "e9464375-4a05-4e96-e5b4-248b0d16a0bd"
   },
   "outputs": [],
   "source": [
    "model.save(\"Pima_Diabetes_Classification.keras\")"
   ]
  },
  {
   "cell_type": "code",
   "execution_count": 25,
   "id": "6b54e98b",
   "metadata": {
    "id": "6b54e98b",
    "outputId": "271ce6f5-1c90-4e34-d365-476863afaf94"
   },
   "outputs": [
    {
     "name": "stdout",
     "output_type": "stream",
     "text": [
      "\u001b[1m5/5\u001b[0m \u001b[32m━━━━━━━━━━━━━━━━━━━━\u001b[0m\u001b[37m\u001b[0m \u001b[1m0s\u001b[0m 42ms/step\n"
     ]
    },
    {
     "data": {
      "text/plain": [
       "0.6818181818181818"
      ]
     },
     "execution_count": 25,
     "metadata": {},
     "output_type": "execute_result"
    }
   ],
   "source": [
    "from tensorflow.keras.models import load_model\n",
    "# load model\n",
    "model = load_model('Pima_Diabetes_Classification.keras')\n",
    "load_pred=(model.predict(X_test) > 0.5).astype(\"int32\")\n",
    "\n",
    "accuracy_score(Y_test, load_pred)"
   ]
  },
  {
   "cell_type": "markdown",
   "id": "1abfa322",
   "metadata": {
    "id": "1abfa322"
   },
   "source": [
    "# Model check point and early stopping"
   ]
  },
  {
   "cell_type": "code",
   "execution_count": 26,
   "id": "ac396706-b5be-49d9-892a-0026eefaefca",
   "metadata": {},
   "outputs": [
    {
     "name": "stdout",
     "output_type": "stream",
     "text": [
      "Epoch 1/100\n",
      "\u001b[1m37/50\u001b[0m \u001b[32m━━━━━━━━━━━━━━\u001b[0m\u001b[37m━━━━━━\u001b[0m \u001b[1m0s\u001b[0m 4ms/step - accuracy: 0.7699 - loss: 0.4770\n",
      "Epoch 1: val_accuracy improved from -inf to 0.69919, saving model to Pima_Diabetes_Classification.keras\n",
      "\u001b[1m50/50\u001b[0m \u001b[32m━━━━━━━━━━━━━━━━━━━━\u001b[0m\u001b[37m\u001b[0m \u001b[1m3s\u001b[0m 15ms/step - accuracy: 0.7704 - loss: 0.4820 - val_accuracy: 0.6992 - val_loss: 0.5778\n",
      "Epoch 2/100\n",
      "\u001b[1m49/50\u001b[0m \u001b[32m━━━━━━━━━━━━━━━━━━━\u001b[0m\u001b[37m━\u001b[0m \u001b[1m0s\u001b[0m 3ms/step - accuracy: 0.7330 - loss: 0.5333\n",
      "Epoch 2: val_accuracy did not improve from 0.69919\n",
      "\u001b[1m50/50\u001b[0m \u001b[32m━━━━━━━━━━━━━━━━━━━━\u001b[0m\u001b[37m\u001b[0m \u001b[1m0s\u001b[0m 6ms/step - accuracy: 0.7333 - loss: 0.5327 - val_accuracy: 0.6748 - val_loss: 0.5877\n",
      "Epoch 3/100\n",
      "\u001b[1m46/50\u001b[0m \u001b[32m━━━━━━━━━━━━━━━━━━\u001b[0m\u001b[37m━━\u001b[0m \u001b[1m0s\u001b[0m 3ms/step - accuracy: 0.7538 - loss: 0.4892\n",
      "Epoch 3: val_accuracy did not improve from 0.69919\n",
      "\u001b[1m50/50\u001b[0m \u001b[32m━━━━━━━━━━━━━━━━━━━━\u001b[0m\u001b[37m\u001b[0m \u001b[1m0s\u001b[0m 6ms/step - accuracy: 0.7527 - loss: 0.4916 - val_accuracy: 0.6829 - val_loss: 0.5870\n",
      "Epoch 4/100\n",
      "\u001b[1m46/50\u001b[0m \u001b[32m━━━━━━━━━━━━━━━━━━\u001b[0m\u001b[37m━━\u001b[0m \u001b[1m0s\u001b[0m 3ms/step - accuracy: 0.7534 - loss: 0.5211\n",
      "Epoch 4: val_accuracy did not improve from 0.69919\n",
      "\u001b[1m50/50\u001b[0m \u001b[32m━━━━━━━━━━━━━━━━━━━━\u001b[0m\u001b[37m\u001b[0m \u001b[1m0s\u001b[0m 7ms/step - accuracy: 0.7531 - loss: 0.5200 - val_accuracy: 0.6341 - val_loss: 0.6409\n",
      "Epoch 5/100\n",
      "\u001b[1m41/50\u001b[0m \u001b[32m━━━━━━━━━━━━━━━━\u001b[0m\u001b[37m━━━━\u001b[0m \u001b[1m0s\u001b[0m 4ms/step - accuracy: 0.7509 - loss: 0.5381\n",
      "Epoch 5: val_accuracy did not improve from 0.69919\n",
      "\u001b[1m50/50\u001b[0m \u001b[32m━━━━━━━━━━━━━━━━━━━━\u001b[0m\u001b[37m\u001b[0m \u001b[1m0s\u001b[0m 8ms/step - accuracy: 0.7508 - loss: 0.5346 - val_accuracy: 0.6829 - val_loss: 0.5785\n",
      "Epoch 6/100\n",
      "\u001b[1m41/50\u001b[0m \u001b[32m━━━━━━━━━━━━━━━━\u001b[0m\u001b[37m━━━━\u001b[0m \u001b[1m0s\u001b[0m 4ms/step - accuracy: 0.7649 - loss: 0.4909\n",
      "Epoch 6: val_accuracy did not improve from 0.69919\n",
      "\u001b[1m50/50\u001b[0m \u001b[32m━━━━━━━━━━━━━━━━━━━━\u001b[0m\u001b[37m\u001b[0m \u001b[1m1s\u001b[0m 9ms/step - accuracy: 0.7636 - loss: 0.4956 - val_accuracy: 0.6585 - val_loss: 0.5894\n",
      "Epoch 7/100\n",
      "\u001b[1m40/50\u001b[0m \u001b[32m━━━━━━━━━━━━━━━━\u001b[0m\u001b[37m━━━━\u001b[0m \u001b[1m0s\u001b[0m 4ms/step - accuracy: 0.7766 - loss: 0.4735\n",
      "Epoch 7: val_accuracy did not improve from 0.69919\n",
      "\u001b[1m50/50\u001b[0m \u001b[32m━━━━━━━━━━━━━━━━━━━━\u001b[0m\u001b[37m\u001b[0m \u001b[1m1s\u001b[0m 10ms/step - accuracy: 0.7709 - loss: 0.4843 - val_accuracy: 0.6423 - val_loss: 0.6109\n",
      "Epoch 8/100\n",
      "\u001b[1m42/50\u001b[0m \u001b[32m━━━━━━━━━━━━━━━━\u001b[0m\u001b[37m━━━━\u001b[0m \u001b[1m0s\u001b[0m 4ms/step - accuracy: 0.7259 - loss: 0.5347\n",
      "Epoch 8: val_accuracy did not improve from 0.69919\n",
      "\u001b[1m50/50\u001b[0m \u001b[32m━━━━━━━━━━━━━━━━━━━━\u001b[0m\u001b[37m\u001b[0m \u001b[1m0s\u001b[0m 6ms/step - accuracy: 0.7306 - loss: 0.5313 - val_accuracy: 0.6829 - val_loss: 0.5807\n",
      "Epoch 9/100\n",
      "\u001b[1m41/50\u001b[0m \u001b[32m━━━━━━━━━━━━━━━━\u001b[0m\u001b[37m━━━━\u001b[0m \u001b[1m0s\u001b[0m 4ms/step - accuracy: 0.7190 - loss: 0.5394\n",
      "Epoch 9: val_accuracy did not improve from 0.69919\n",
      "\u001b[1m50/50\u001b[0m \u001b[32m━━━━━━━━━━━━━━━━━━━━\u001b[0m\u001b[37m\u001b[0m \u001b[1m1s\u001b[0m 10ms/step - accuracy: 0.7253 - loss: 0.5332 - val_accuracy: 0.6585 - val_loss: 0.5920\n",
      "Epoch 10/100\n",
      "\u001b[1m47/50\u001b[0m \u001b[32m━━━━━━━━━━━━━━━━━━\u001b[0m\u001b[37m━━\u001b[0m \u001b[1m0s\u001b[0m 6ms/step - accuracy: 0.7745 - loss: 0.5065\n",
      "Epoch 10: val_accuracy did not improve from 0.69919\n",
      "\u001b[1m50/50\u001b[0m \u001b[32m━━━━━━━━━━━━━━━━━━━━\u001b[0m\u001b[37m\u001b[0m \u001b[1m1s\u001b[0m 9ms/step - accuracy: 0.7720 - loss: 0.5080 - val_accuracy: 0.6585 - val_loss: 0.5919\n",
      "Epoch 11/100\n",
      "\u001b[1m42/50\u001b[0m \u001b[32m━━━━━━━━━━━━━━━━\u001b[0m\u001b[37m━━━━\u001b[0m \u001b[1m0s\u001b[0m 4ms/step - accuracy: 0.7246 - loss: 0.5119\n",
      "Epoch 11: val_accuracy did not improve from 0.69919\n",
      "\u001b[1m50/50\u001b[0m \u001b[32m━━━━━━━━━━━━━━━━━━━━\u001b[0m\u001b[37m\u001b[0m \u001b[1m0s\u001b[0m 7ms/step - accuracy: 0.7301 - loss: 0.5091 - val_accuracy: 0.6829 - val_loss: 0.5810\n",
      "Epoch 12/100\n",
      "\u001b[1m37/50\u001b[0m \u001b[32m━━━━━━━━━━━━━━\u001b[0m\u001b[37m━━━━━━\u001b[0m \u001b[1m0s\u001b[0m 4ms/step - accuracy: 0.7720 - loss: 0.4797\n",
      "Epoch 12: val_accuracy did not improve from 0.69919\n",
      "\u001b[1m50/50\u001b[0m \u001b[32m━━━━━━━━━━━━━━━━━━━━\u001b[0m\u001b[37m\u001b[0m \u001b[1m1s\u001b[0m 7ms/step - accuracy: 0.7651 - loss: 0.4865 - val_accuracy: 0.6829 - val_loss: 0.5806\n",
      "Epoch 13/100\n",
      "\u001b[1m38/50\u001b[0m \u001b[32m━━━━━━━━━━━━━━━\u001b[0m\u001b[37m━━━━━\u001b[0m \u001b[1m0s\u001b[0m 4ms/step - accuracy: 0.7548 - loss: 0.4973\n",
      "Epoch 13: val_accuracy did not improve from 0.69919\n",
      "\u001b[1m50/50\u001b[0m \u001b[32m━━━━━━━━━━━━━━━━━━━━\u001b[0m\u001b[37m\u001b[0m \u001b[1m0s\u001b[0m 8ms/step - accuracy: 0.7559 - loss: 0.5003 - val_accuracy: 0.6585 - val_loss: 0.5989\n",
      "Epoch 14/100\n",
      "\u001b[1m44/50\u001b[0m \u001b[32m━━━━━━━━━━━━━━━━━\u001b[0m\u001b[37m━━━\u001b[0m \u001b[1m0s\u001b[0m 5ms/step - accuracy: 0.7955 - loss: 0.4971\n",
      "Epoch 14: val_accuracy did not improve from 0.69919\n",
      "\u001b[1m50/50\u001b[0m \u001b[32m━━━━━━━━━━━━━━━━━━━━\u001b[0m\u001b[37m\u001b[0m \u001b[1m1s\u001b[0m 9ms/step - accuracy: 0.7928 - loss: 0.4971 - val_accuracy: 0.6911 - val_loss: 0.5812\n",
      "Epoch 15/100\n",
      "\u001b[1m45/50\u001b[0m \u001b[32m━━━━━━━━━━━━━━━━━━\u001b[0m\u001b[37m━━\u001b[0m \u001b[1m0s\u001b[0m 6ms/step - accuracy: 0.7064 - loss: 0.5242\n",
      "Epoch 15: val_accuracy did not improve from 0.69919\n",
      "\u001b[1m50/50\u001b[0m \u001b[32m━━━━━━━━━━━━━━━━━━━━\u001b[0m\u001b[37m\u001b[0m \u001b[1m1s\u001b[0m 12ms/step - accuracy: 0.7114 - loss: 0.5232 - val_accuracy: 0.6423 - val_loss: 0.6012\n",
      "Epoch 16/100\n",
      "\u001b[1m46/50\u001b[0m \u001b[32m━━━━━━━━━━━━━━━━━━\u001b[0m\u001b[37m━━\u001b[0m \u001b[1m0s\u001b[0m 10ms/step - accuracy: 0.7338 - loss: 0.5488\n",
      "Epoch 16: val_accuracy did not improve from 0.69919\n",
      "\u001b[1m50/50\u001b[0m \u001b[32m━━━━━━━━━━━━━━━━━━━━\u001b[0m\u001b[37m\u001b[0m \u001b[1m1s\u001b[0m 16ms/step - accuracy: 0.7349 - loss: 0.5476 - val_accuracy: 0.6829 - val_loss: 0.5917\n",
      "Epoch 17/100\n",
      "\u001b[1m50/50\u001b[0m \u001b[32m━━━━━━━━━━━━━━━━━━━━\u001b[0m\u001b[37m\u001b[0m \u001b[1m0s\u001b[0m 6ms/step - accuracy: 0.8026 - loss: 0.4714\n",
      "Epoch 17: val_accuracy did not improve from 0.69919\n",
      "\u001b[1m50/50\u001b[0m \u001b[32m━━━━━━━━━━━━━━━━━━━━\u001b[0m\u001b[37m\u001b[0m \u001b[1m1s\u001b[0m 11ms/step - accuracy: 0.8019 - loss: 0.4719 - val_accuracy: 0.6992 - val_loss: 0.5753\n",
      "Epoch 18/100\n",
      "\u001b[1m41/50\u001b[0m \u001b[32m━━━━━━━━━━━━━━━━\u001b[0m\u001b[37m━━━━\u001b[0m \u001b[1m0s\u001b[0m 5ms/step - accuracy: 0.7093 - loss: 0.5360\n",
      "Epoch 18: val_accuracy did not improve from 0.69919\n",
      "\u001b[1m50/50\u001b[0m \u001b[32m━━━━━━━━━━━━━━━━━━━━\u001b[0m\u001b[37m\u001b[0m \u001b[1m1s\u001b[0m 10ms/step - accuracy: 0.7117 - loss: 0.5325 - val_accuracy: 0.6992 - val_loss: 0.5806\n",
      "Epoch 19/100\n",
      "\u001b[1m41/50\u001b[0m \u001b[32m━━━━━━━━━━━━━━━━\u001b[0m\u001b[37m━━━━\u001b[0m \u001b[1m0s\u001b[0m 5ms/step - accuracy: 0.7701 - loss: 0.5094\n",
      "Epoch 19: val_accuracy did not improve from 0.69919\n",
      "\u001b[1m50/50\u001b[0m \u001b[32m━━━━━━━━━━━━━━━━━━━━\u001b[0m\u001b[37m\u001b[0m \u001b[1m1s\u001b[0m 10ms/step - accuracy: 0.7682 - loss: 0.5096 - val_accuracy: 0.6829 - val_loss: 0.6001\n",
      "Epoch 20/100\n",
      "\u001b[1m47/50\u001b[0m \u001b[32m━━━━━━━━━━━━━━━━━━\u001b[0m\u001b[37m━━\u001b[0m \u001b[1m0s\u001b[0m 6ms/step - accuracy: 0.7623 - loss: 0.6612\n",
      "Epoch 20: val_accuracy did not improve from 0.69919\n",
      "\u001b[1m50/50\u001b[0m \u001b[32m━━━━━━━━━━━━━━━━━━━━\u001b[0m\u001b[37m\u001b[0m \u001b[1m1s\u001b[0m 11ms/step - accuracy: 0.7594 - loss: 0.6604 - val_accuracy: 0.6748 - val_loss: 0.6603\n",
      "Epoch 21/100\n",
      "\u001b[1m49/50\u001b[0m \u001b[32m━━━━━━━━━━━━━━━━━━━\u001b[0m\u001b[37m━\u001b[0m \u001b[1m0s\u001b[0m 5ms/step - accuracy: 0.7641 - loss: 0.5015\n",
      "Epoch 21: val_accuracy did not improve from 0.69919\n",
      "\u001b[1m50/50\u001b[0m \u001b[32m━━━━━━━━━━━━━━━━━━━━\u001b[0m\u001b[37m\u001b[0m \u001b[1m1s\u001b[0m 12ms/step - accuracy: 0.7639 - loss: 0.5015 - val_accuracy: 0.6992 - val_loss: 0.5878\n",
      "Epoch 22/100\n",
      "\u001b[1m48/50\u001b[0m \u001b[32m━━━━━━━━━━━━━━━━━━━\u001b[0m\u001b[37m━\u001b[0m \u001b[1m0s\u001b[0m 7ms/step - accuracy: 0.7548 - loss: 0.5024\n",
      "Epoch 22: val_accuracy did not improve from 0.69919\n",
      "\u001b[1m50/50\u001b[0m \u001b[32m━━━━━━━━━━━━━━━━━━━━\u001b[0m\u001b[37m\u001b[0m \u001b[1m1s\u001b[0m 11ms/step - accuracy: 0.7543 - loss: 0.5025 - val_accuracy: 0.6667 - val_loss: 0.6562\n",
      "Epoch 23/100\n",
      "\u001b[1m40/50\u001b[0m \u001b[32m━━━━━━━━━━━━━━━━\u001b[0m\u001b[37m━━━━\u001b[0m \u001b[1m0s\u001b[0m 5ms/step - accuracy: 0.7427 - loss: 0.5174\n",
      "Epoch 23: val_accuracy did not improve from 0.69919\n",
      "\u001b[1m50/50\u001b[0m \u001b[32m━━━━━━━━━━━━━━━━━━━━\u001b[0m\u001b[37m\u001b[0m \u001b[1m1s\u001b[0m 10ms/step - accuracy: 0.7471 - loss: 0.5147 - val_accuracy: 0.6748 - val_loss: 0.5816\n",
      "Epoch 24/100\n",
      "\u001b[1m50/50\u001b[0m \u001b[32m━━━━━━━━━━━━━━━━━━━━\u001b[0m\u001b[37m\u001b[0m \u001b[1m0s\u001b[0m 5ms/step - accuracy: 0.7847 - loss: 0.4690\n",
      "Epoch 24: val_accuracy did not improve from 0.69919\n",
      "\u001b[1m50/50\u001b[0m \u001b[32m━━━━━━━━━━━━━━━━━━━━\u001b[0m\u001b[37m\u001b[0m \u001b[1m1s\u001b[0m 10ms/step - accuracy: 0.7841 - loss: 0.4696 - val_accuracy: 0.6829 - val_loss: 0.5927\n",
      "Epoch 25/100\n",
      "\u001b[1m43/50\u001b[0m \u001b[32m━━━━━━━━━━━━━━━━━\u001b[0m\u001b[37m━━━\u001b[0m \u001b[1m0s\u001b[0m 8ms/step - accuracy: 0.7687 - loss: 0.4925\n",
      "Epoch 25: val_accuracy did not improve from 0.69919\n",
      "\u001b[1m50/50\u001b[0m \u001b[32m━━━━━━━━━━━━━━━━━━━━\u001b[0m\u001b[37m\u001b[0m \u001b[1m1s\u001b[0m 14ms/step - accuracy: 0.7658 - loss: 0.4954 - val_accuracy: 0.6829 - val_loss: 0.5755\n",
      "Epoch 26/100\n",
      "\u001b[1m45/50\u001b[0m \u001b[32m━━━━━━━━━━━━━━━━━━\u001b[0m\u001b[37m━━\u001b[0m \u001b[1m0s\u001b[0m 9ms/step - accuracy: 0.7183 - loss: 0.5220 \n",
      "Epoch 26: val_accuracy did not improve from 0.69919\n",
      "\u001b[1m50/50\u001b[0m \u001b[32m━━━━━━━━━━━━━━━━━━━━\u001b[0m\u001b[37m\u001b[0m \u001b[1m1s\u001b[0m 16ms/step - accuracy: 0.7219 - loss: 0.5194 - val_accuracy: 0.6829 - val_loss: 0.5792\n",
      "Epoch 27/100\n",
      "\u001b[1m46/50\u001b[0m \u001b[32m━━━━━━━━━━━━━━━━━━\u001b[0m\u001b[37m━━\u001b[0m \u001b[1m0s\u001b[0m 6ms/step - accuracy: 0.7678 - loss: 0.4958\n",
      "Epoch 27: val_accuracy improved from 0.69919 to 0.70732, saving model to Pima_Diabetes_Classification.keras\n",
      "\u001b[1m50/50\u001b[0m \u001b[32m━━━━━━━━━━━━━━━━━━━━\u001b[0m\u001b[37m\u001b[0m \u001b[1m1s\u001b[0m 14ms/step - accuracy: 0.7672 - loss: 0.4961 - val_accuracy: 0.7073 - val_loss: 0.5795\n",
      "Epoch 28/100\n",
      "\u001b[1m47/50\u001b[0m \u001b[32m━━━━━━━━━━━━━━━━━━\u001b[0m\u001b[37m━━\u001b[0m \u001b[1m0s\u001b[0m 6ms/step - accuracy: 0.7904 - loss: 0.4638\n",
      "Epoch 28: val_accuracy did not improve from 0.70732\n",
      "\u001b[1m50/50\u001b[0m \u001b[32m━━━━━━━━━━━━━━━━━━━━\u001b[0m\u001b[37m\u001b[0m \u001b[1m1s\u001b[0m 11ms/step - accuracy: 0.7890 - loss: 0.4665 - val_accuracy: 0.6829 - val_loss: 0.5740\n",
      "Epoch 29/100\n",
      "\u001b[1m49/50\u001b[0m \u001b[32m━━━━━━━━━━━━━━━━━━━\u001b[0m\u001b[37m━\u001b[0m \u001b[1m0s\u001b[0m 4ms/step - accuracy: 0.7393 - loss: 0.4986\n",
      "Epoch 29: val_accuracy did not improve from 0.70732\n",
      "\u001b[1m50/50\u001b[0m \u001b[32m━━━━━━━━━━━━━━━━━━━━\u001b[0m\u001b[37m\u001b[0m \u001b[1m1s\u001b[0m 9ms/step - accuracy: 0.7395 - loss: 0.4992 - val_accuracy: 0.6585 - val_loss: 0.6036\n",
      "Epoch 30/100\n",
      "\u001b[1m39/50\u001b[0m \u001b[32m━━━━━━━━━━━━━━━\u001b[0m\u001b[37m━━━━━\u001b[0m \u001b[1m0s\u001b[0m 4ms/step - accuracy: 0.7309 - loss: 0.5433\n",
      "Epoch 30: val_accuracy did not improve from 0.70732\n",
      "\u001b[1m50/50\u001b[0m \u001b[32m━━━━━━━━━━━━━━━━━━━━\u001b[0m\u001b[37m\u001b[0m \u001b[1m0s\u001b[0m 8ms/step - accuracy: 0.7331 - loss: 0.5353 - val_accuracy: 0.6992 - val_loss: 0.5768\n",
      "Epoch 31/100\n",
      "\u001b[1m38/50\u001b[0m \u001b[32m━━━━━━━━━━━━━━━\u001b[0m\u001b[37m━━━━━\u001b[0m \u001b[1m0s\u001b[0m 4ms/step - accuracy: 0.7616 - loss: 0.4730\n",
      "Epoch 31: val_accuracy did not improve from 0.70732\n",
      "\u001b[1m50/50\u001b[0m \u001b[32m━━━━━━━━━━━━━━━━━━━━\u001b[0m\u001b[37m\u001b[0m \u001b[1m1s\u001b[0m 9ms/step - accuracy: 0.7599 - loss: 0.4792 - val_accuracy: 0.6911 - val_loss: 0.5743\n",
      "Epoch 32/100\n",
      "\u001b[1m39/50\u001b[0m \u001b[32m━━━━━━━━━━━━━━━\u001b[0m\u001b[37m━━━━━\u001b[0m \u001b[1m0s\u001b[0m 4ms/step - accuracy: 0.8019 - loss: 0.4760\n",
      "Epoch 32: val_accuracy did not improve from 0.70732\n",
      "\u001b[1m50/50\u001b[0m \u001b[32m━━━━━━━━━━━━━━━━━━━━\u001b[0m\u001b[37m\u001b[0m \u001b[1m1s\u001b[0m 9ms/step - accuracy: 0.7966 - loss: 0.4781 - val_accuracy: 0.6992 - val_loss: 0.5759\n",
      "Epoch 33/100\n",
      "\u001b[1m45/50\u001b[0m \u001b[32m━━━━━━━━━━━━━━━━━━\u001b[0m\u001b[37m━━\u001b[0m \u001b[1m0s\u001b[0m 5ms/step - accuracy: 0.7337 - loss: 0.5244\n",
      "Epoch 33: val_accuracy did not improve from 0.70732\n",
      "\u001b[1m50/50\u001b[0m \u001b[32m━━━━━━━━━━━━━━━━━━━━\u001b[0m\u001b[37m\u001b[0m \u001b[1m1s\u001b[0m 9ms/step - accuracy: 0.7360 - loss: 0.5223 - val_accuracy: 0.6748 - val_loss: 0.6004\n",
      "Epoch 34/100\n",
      "\u001b[1m45/50\u001b[0m \u001b[32m━━━━━━━━━━━━━━━━━━\u001b[0m\u001b[37m━━\u001b[0m \u001b[1m0s\u001b[0m 5ms/step - accuracy: 0.7441 - loss: 0.4995\n",
      "Epoch 34: val_accuracy did not improve from 0.70732\n",
      "\u001b[1m50/50\u001b[0m \u001b[32m━━━━━━━━━━━━━━━━━━━━\u001b[0m\u001b[37m\u001b[0m \u001b[1m1s\u001b[0m 11ms/step - accuracy: 0.7452 - loss: 0.4998 - val_accuracy: 0.6992 - val_loss: 0.5677\n",
      "Epoch 35/100\n",
      "\u001b[1m42/50\u001b[0m \u001b[32m━━━━━━━━━━━━━━━━\u001b[0m\u001b[37m━━━━\u001b[0m \u001b[1m0s\u001b[0m 6ms/step - accuracy: 0.7712 - loss: 0.4901\n",
      "Epoch 35: val_accuracy did not improve from 0.70732\n",
      "\u001b[1m50/50\u001b[0m \u001b[32m━━━━━━━━━━━━━━━━━━━━\u001b[0m\u001b[37m\u001b[0m \u001b[1m1s\u001b[0m 13ms/step - accuracy: 0.7713 - loss: 0.4899 - val_accuracy: 0.6829 - val_loss: 0.5719\n",
      "Epoch 36/100\n",
      "\u001b[1m40/50\u001b[0m \u001b[32m━━━━━━━━━━━━━━━━\u001b[0m\u001b[37m━━━━\u001b[0m \u001b[1m0s\u001b[0m 5ms/step - accuracy: 0.7765 - loss: 0.4906\n",
      "Epoch 36: val_accuracy did not improve from 0.70732\n",
      "\u001b[1m50/50\u001b[0m \u001b[32m━━━━━━━━━━━━━━━━━━━━\u001b[0m\u001b[37m\u001b[0m \u001b[1m1s\u001b[0m 9ms/step - accuracy: 0.7726 - loss: 0.4982 - val_accuracy: 0.6992 - val_loss: 0.5734\n",
      "Epoch 37/100\n",
      "\u001b[1m43/50\u001b[0m \u001b[32m━━━━━━━━━━━━━━━━━\u001b[0m\u001b[37m━━━\u001b[0m \u001b[1m0s\u001b[0m 5ms/step - accuracy: 0.7439 - loss: 0.4943\n",
      "Epoch 37: val_accuracy did not improve from 0.70732\n",
      "\u001b[1m50/50\u001b[0m \u001b[32m━━━━━━━━━━━━━━━━━━━━\u001b[0m\u001b[37m\u001b[0m \u001b[1m1s\u001b[0m 12ms/step - accuracy: 0.7446 - loss: 0.4958 - val_accuracy: 0.7073 - val_loss: 0.5696\n",
      "Epoch 38/100\n",
      "\u001b[1m49/50\u001b[0m \u001b[32m━━━━━━━━━━━━━━━━━━━\u001b[0m\u001b[37m━\u001b[0m \u001b[1m0s\u001b[0m 4ms/step - accuracy: 0.7960 - loss: 0.4519\n",
      "Epoch 38: val_accuracy did not improve from 0.70732\n",
      "\u001b[1m50/50\u001b[0m \u001b[32m━━━━━━━━━━━━━━━━━━━━\u001b[0m\u001b[37m\u001b[0m \u001b[1m1s\u001b[0m 9ms/step - accuracy: 0.7944 - loss: 0.4537 - val_accuracy: 0.6667 - val_loss: 0.6161\n",
      "Epoch 39/100\n",
      "\u001b[1m41/50\u001b[0m \u001b[32m━━━━━━━━━━━━━━━━\u001b[0m\u001b[37m━━━━\u001b[0m \u001b[1m0s\u001b[0m 5ms/step - accuracy: 0.7572 - loss: 0.4892\n",
      "Epoch 39: val_accuracy did not improve from 0.70732\n",
      "\u001b[1m50/50\u001b[0m \u001b[32m━━━━━━━━━━━━━━━━━━━━\u001b[0m\u001b[37m\u001b[0m \u001b[1m1s\u001b[0m 11ms/step - accuracy: 0.7579 - loss: 0.4919 - val_accuracy: 0.6911 - val_loss: 0.5903\n",
      "Epoch 40/100\n",
      "\u001b[1m50/50\u001b[0m \u001b[32m━━━━━━━━━━━━━━━━━━━━\u001b[0m\u001b[37m\u001b[0m \u001b[1m0s\u001b[0m 4ms/step - accuracy: 0.7953 - loss: 0.4639\n",
      "Epoch 40: val_accuracy did not improve from 0.70732\n",
      "\u001b[1m50/50\u001b[0m \u001b[32m━━━━━━━━━━━━━━━━━━━━\u001b[0m\u001b[37m\u001b[0m \u001b[1m1s\u001b[0m 9ms/step - accuracy: 0.7948 - loss: 0.4643 - val_accuracy: 0.6748 - val_loss: 0.6123\n",
      "Epoch 41/100\n",
      "\u001b[1m50/50\u001b[0m \u001b[32m━━━━━━━━━━━━━━━━━━━━\u001b[0m\u001b[37m\u001b[0m \u001b[1m0s\u001b[0m 5ms/step - accuracy: 0.7784 - loss: 0.4886\n",
      "Epoch 41: val_accuracy did not improve from 0.70732\n",
      "\u001b[1m50/50\u001b[0m \u001b[32m━━━━━━━━━━━━━━━━━━━━\u001b[0m\u001b[37m\u001b[0m \u001b[1m1s\u001b[0m 13ms/step - accuracy: 0.7781 - loss: 0.4888 - val_accuracy: 0.6911 - val_loss: 0.5936\n",
      "Epoch 42/100\n",
      "\u001b[1m44/50\u001b[0m \u001b[32m━━━━━━━━━━━━━━━━━\u001b[0m\u001b[37m━━━\u001b[0m \u001b[1m0s\u001b[0m 6ms/step - accuracy: 0.7917 - loss: 0.4783\n",
      "Epoch 42: val_accuracy did not improve from 0.70732\n",
      "\u001b[1m50/50\u001b[0m \u001b[32m━━━━━━━━━━━━━━━━━━━━\u001b[0m\u001b[37m\u001b[0m \u001b[1m1s\u001b[0m 12ms/step - accuracy: 0.7892 - loss: 0.4803 - val_accuracy: 0.6992 - val_loss: 0.5679\n",
      "Epoch 43/100\n",
      "\u001b[1m48/50\u001b[0m \u001b[32m━━━━━━━━━━━━━━━━━━━\u001b[0m\u001b[37m━\u001b[0m \u001b[1m0s\u001b[0m 6ms/step - accuracy: 0.7318 - loss: 0.5132\n",
      "Epoch 43: val_accuracy did not improve from 0.70732\n",
      "\u001b[1m50/50\u001b[0m \u001b[32m━━━━━━━━━━━━━━━━━━━━\u001b[0m\u001b[37m\u001b[0m \u001b[1m1s\u001b[0m 10ms/step - accuracy: 0.7331 - loss: 0.5123 - val_accuracy: 0.6992 - val_loss: 0.5657\n",
      "Epoch 44/100\n",
      "\u001b[1m48/50\u001b[0m \u001b[32m━━━━━━━━━━━━━━━━━━━\u001b[0m\u001b[37m━\u001b[0m \u001b[1m0s\u001b[0m 5ms/step - accuracy: 0.7440 - loss: 0.5166\n",
      "Epoch 44: val_accuracy did not improve from 0.70732\n",
      "\u001b[1m50/50\u001b[0m \u001b[32m━━━━━━━━━━━━━━━━━━━━\u001b[0m\u001b[37m\u001b[0m \u001b[1m1s\u001b[0m 11ms/step - accuracy: 0.7452 - loss: 0.5162 - val_accuracy: 0.6748 - val_loss: 0.5782\n",
      "Epoch 45/100\n",
      "\u001b[1m45/50\u001b[0m \u001b[32m━━━━━━━━━━━━━━━━━━\u001b[0m\u001b[37m━━\u001b[0m \u001b[1m0s\u001b[0m 6ms/step - accuracy: 0.7296 - loss: 0.5022\n",
      "Epoch 45: val_accuracy did not improve from 0.70732\n",
      "\u001b[1m50/50\u001b[0m \u001b[32m━━━━━━━━━━━━━━━━━━━━\u001b[0m\u001b[37m\u001b[0m \u001b[1m1s\u001b[0m 11ms/step - accuracy: 0.7301 - loss: 0.5026 - val_accuracy: 0.6504 - val_loss: 0.6932\n",
      "Epoch 46/100\n",
      "\u001b[1m47/50\u001b[0m \u001b[32m━━━━━━━━━━━━━━━━━━\u001b[0m\u001b[37m━━\u001b[0m \u001b[1m0s\u001b[0m 6ms/step - accuracy: 0.7340 - loss: 0.5393\n",
      "Epoch 46: val_accuracy did not improve from 0.70732\n",
      "\u001b[1m50/50\u001b[0m \u001b[32m━━━━━━━━━━━━━━━━━━━━\u001b[0m\u001b[37m\u001b[0m \u001b[1m1s\u001b[0m 11ms/step - accuracy: 0.7358 - loss: 0.5366 - val_accuracy: 0.6748 - val_loss: 0.5694\n",
      "Epoch 47/100\n",
      "\u001b[1m40/50\u001b[0m \u001b[32m━━━━━━━━━━━━━━━━\u001b[0m\u001b[37m━━━━\u001b[0m \u001b[1m0s\u001b[0m 5ms/step - accuracy: 0.7663 - loss: 0.5010\n",
      "Epoch 47: val_accuracy did not improve from 0.70732\n",
      "\u001b[1m50/50\u001b[0m \u001b[32m━━━━━━━━━━━━━━━━━━━━\u001b[0m\u001b[37m\u001b[0m \u001b[1m1s\u001b[0m 11ms/step - accuracy: 0.7610 - loss: 0.5033 - val_accuracy: 0.6911 - val_loss: 0.5690\n",
      "Epoch 48/100\n",
      "\u001b[1m46/50\u001b[0m \u001b[32m━━━━━━━━━━━━━━━━━━\u001b[0m\u001b[37m━━\u001b[0m \u001b[1m0s\u001b[0m 6ms/step - accuracy: 0.7489 - loss: 0.5042\n",
      "Epoch 48: val_accuracy did not improve from 0.70732\n",
      "\u001b[1m50/50\u001b[0m \u001b[32m━━━━━━━━━━━━━━━━━━━━\u001b[0m\u001b[37m\u001b[0m \u001b[1m1s\u001b[0m 12ms/step - accuracy: 0.7492 - loss: 0.5045 - val_accuracy: 0.6992 - val_loss: 0.5650\n",
      "Epoch 49/100\n",
      "\u001b[1m41/50\u001b[0m \u001b[32m━━━━━━━━━━━━━━━━\u001b[0m\u001b[37m━━━━\u001b[0m \u001b[1m0s\u001b[0m 7ms/step - accuracy: 0.7343 - loss: 0.4942\n",
      "Epoch 49: val_accuracy did not improve from 0.70732\n",
      "\u001b[1m50/50\u001b[0m \u001b[32m━━━━━━━━━━━━━━━━━━━━\u001b[0m\u001b[37m\u001b[0m \u001b[1m1s\u001b[0m 12ms/step - accuracy: 0.7401 - loss: 0.4927 - val_accuracy: 0.6829 - val_loss: 0.5776\n",
      "Epoch 50/100\n",
      "\u001b[1m49/50\u001b[0m \u001b[32m━━━━━━━━━━━━━━━━━━━\u001b[0m\u001b[37m━\u001b[0m \u001b[1m0s\u001b[0m 7ms/step - accuracy: 0.7581 - loss: 0.4853\n",
      "Epoch 50: val_accuracy did not improve from 0.70732\n",
      "\u001b[1m50/50\u001b[0m \u001b[32m━━━━━━━━━━━━━━━━━━━━\u001b[0m\u001b[37m\u001b[0m \u001b[1m1s\u001b[0m 14ms/step - accuracy: 0.7584 - loss: 0.4852 - val_accuracy: 0.6911 - val_loss: 0.5641\n",
      "Epoch 51/100\n",
      "\u001b[1m44/50\u001b[0m \u001b[32m━━━━━━━━━━━━━━━━━\u001b[0m\u001b[37m━━━\u001b[0m \u001b[1m0s\u001b[0m 6ms/step - accuracy: 0.7522 - loss: 0.5112\n",
      "Epoch 51: val_accuracy did not improve from 0.70732\n",
      "\u001b[1m50/50\u001b[0m \u001b[32m━━━━━━━━━━━━━━━━━━━━\u001b[0m\u001b[37m\u001b[0m \u001b[1m1s\u001b[0m 11ms/step - accuracy: 0.7524 - loss: 0.5100 - val_accuracy: 0.6992 - val_loss: 0.5608\n",
      "Epoch 52/100\n",
      "\u001b[1m50/50\u001b[0m \u001b[32m━━━━━━━━━━━━━━━━━━━━\u001b[0m\u001b[37m\u001b[0m \u001b[1m0s\u001b[0m 5ms/step - accuracy: 0.7728 - loss: 0.4776\n",
      "Epoch 52: val_accuracy did not improve from 0.70732\n",
      "\u001b[1m50/50\u001b[0m \u001b[32m━━━━━━━━━━━━━━━━━━━━\u001b[0m\u001b[37m\u001b[0m \u001b[1m1s\u001b[0m 12ms/step - accuracy: 0.7726 - loss: 0.4778 - val_accuracy: 0.6911 - val_loss: 0.5753\n",
      "Epoch 53/100\n",
      "\u001b[1m41/50\u001b[0m \u001b[32m━━━━━━━━━━━━━━━━\u001b[0m\u001b[37m━━━━\u001b[0m \u001b[1m0s\u001b[0m 5ms/step - accuracy: 0.7603 - loss: 0.4938\n",
      "Epoch 53: val_accuracy did not improve from 0.70732\n",
      "\u001b[1m50/50\u001b[0m \u001b[32m━━━━━━━━━━━━━━━━━━━━\u001b[0m\u001b[37m\u001b[0m \u001b[1m1s\u001b[0m 11ms/step - accuracy: 0.7617 - loss: 0.4905 - val_accuracy: 0.6992 - val_loss: 0.5636\n",
      "Epoch 54/100\n",
      "\u001b[1m46/50\u001b[0m \u001b[32m━━━━━━━━━━━━━━━━━━\u001b[0m\u001b[37m━━\u001b[0m \u001b[1m0s\u001b[0m 6ms/step - accuracy: 0.7560 - loss: 0.4948\n",
      "Epoch 54: val_accuracy did not improve from 0.70732\n",
      "\u001b[1m50/50\u001b[0m \u001b[32m━━━━━━━━━━━━━━━━━━━━\u001b[0m\u001b[37m\u001b[0m \u001b[1m1s\u001b[0m 13ms/step - accuracy: 0.7570 - loss: 0.4958 - val_accuracy: 0.6748 - val_loss: 0.5955\n",
      "Epoch 55/100\n",
      "\u001b[1m49/50\u001b[0m \u001b[32m━━━━━━━━━━━━━━━━━━━\u001b[0m\u001b[37m━\u001b[0m \u001b[1m0s\u001b[0m 5ms/step - accuracy: 0.7655 - loss: 0.4515\n",
      "Epoch 55: val_accuracy did not improve from 0.70732\n",
      "\u001b[1m50/50\u001b[0m \u001b[32m━━━━━━━━━━━━━━━━━━━━\u001b[0m\u001b[37m\u001b[0m \u001b[1m1s\u001b[0m 11ms/step - accuracy: 0.7647 - loss: 0.4536 - val_accuracy: 0.7073 - val_loss: 0.5581\n",
      "Epoch 56/100\n",
      "\u001b[1m43/50\u001b[0m \u001b[32m━━━━━━━━━━━━━━━━━\u001b[0m\u001b[37m━━━\u001b[0m \u001b[1m0s\u001b[0m 5ms/step - accuracy: 0.7801 - loss: 0.4652\n",
      "Epoch 56: val_accuracy did not improve from 0.70732\n",
      "\u001b[1m50/50\u001b[0m \u001b[32m━━━━━━━━━━━━━━━━━━━━\u001b[0m\u001b[37m\u001b[0m \u001b[1m1s\u001b[0m 10ms/step - accuracy: 0.7777 - loss: 0.4682 - val_accuracy: 0.6748 - val_loss: 0.6030\n",
      "Epoch 57/100\n",
      "\u001b[1m44/50\u001b[0m \u001b[32m━━━━━━━━━━━━━━━━━\u001b[0m\u001b[37m━━━\u001b[0m \u001b[1m0s\u001b[0m 5ms/step - accuracy: 0.7605 - loss: 0.4939\n",
      "Epoch 57: val_accuracy did not improve from 0.70732\n",
      "\u001b[1m50/50\u001b[0m \u001b[32m━━━━━━━━━━━━━━━━━━━━\u001b[0m\u001b[37m\u001b[0m \u001b[1m1s\u001b[0m 10ms/step - accuracy: 0.7599 - loss: 0.4939 - val_accuracy: 0.6748 - val_loss: 0.6202\n",
      "Epoch 58/100\n",
      "\u001b[1m46/50\u001b[0m \u001b[32m━━━━━━━━━━━━━━━━━━\u001b[0m\u001b[37m━━\u001b[0m \u001b[1m0s\u001b[0m 5ms/step - accuracy: 0.7979 - loss: 0.4798\n",
      "Epoch 58: val_accuracy did not improve from 0.70732\n",
      "\u001b[1m50/50\u001b[0m \u001b[32m━━━━━━━━━━━━━━━━━━━━\u001b[0m\u001b[37m\u001b[0m \u001b[1m1s\u001b[0m 10ms/step - accuracy: 0.7956 - loss: 0.4810 - val_accuracy: 0.6911 - val_loss: 0.5762\n",
      "Epoch 59/100\n",
      "\u001b[1m49/50\u001b[0m \u001b[32m━━━━━━━━━━━━━━━━━━━\u001b[0m\u001b[37m━\u001b[0m \u001b[1m0s\u001b[0m 6ms/step - accuracy: 0.7894 - loss: 0.4705\n",
      "Epoch 59: val_accuracy did not improve from 0.70732\n",
      "\u001b[1m50/50\u001b[0m \u001b[32m━━━━━━━━━━━━━━━━━━━━\u001b[0m\u001b[37m\u001b[0m \u001b[1m1s\u001b[0m 11ms/step - accuracy: 0.7884 - loss: 0.4712 - val_accuracy: 0.6667 - val_loss: 0.5673\n",
      "Epoch 60/100\n",
      "\u001b[1m50/50\u001b[0m \u001b[32m━━━━━━━━━━━━━━━━━━━━\u001b[0m\u001b[37m\u001b[0m \u001b[1m0s\u001b[0m 5ms/step - accuracy: 0.7507 - loss: 0.5168\n",
      "Epoch 60: val_accuracy did not improve from 0.70732\n",
      "\u001b[1m50/50\u001b[0m \u001b[32m━━━━━━━━━━━━━━━━━━━━\u001b[0m\u001b[37m\u001b[0m \u001b[1m1s\u001b[0m 12ms/step - accuracy: 0.7508 - loss: 0.5164 - val_accuracy: 0.6748 - val_loss: 0.5897\n",
      "Epoch 61/100\n",
      "\u001b[1m42/50\u001b[0m \u001b[32m━━━━━━━━━━━━━━━━\u001b[0m\u001b[37m━━━━\u001b[0m \u001b[1m0s\u001b[0m 6ms/step - accuracy: 0.7373 - loss: 0.5264\n",
      "Epoch 61: val_accuracy did not improve from 0.70732\n",
      "\u001b[1m50/50\u001b[0m \u001b[32m━━━━━━━━━━━━━━━━━━━━\u001b[0m\u001b[37m\u001b[0m \u001b[1m1s\u001b[0m 11ms/step - accuracy: 0.7416 - loss: 0.5202 - val_accuracy: 0.6911 - val_loss: 0.5670\n",
      "Epoch 62/100\n",
      "\u001b[1m47/50\u001b[0m \u001b[32m━━━━━━━━━━━━━━━━━━\u001b[0m\u001b[37m━━\u001b[0m \u001b[1m0s\u001b[0m 5ms/step - accuracy: 0.8019 - loss: 0.4546\n",
      "Epoch 62: val_accuracy did not improve from 0.70732\n",
      "\u001b[1m50/50\u001b[0m \u001b[32m━━━━━━━━━━━━━━━━━━━━\u001b[0m\u001b[37m\u001b[0m \u001b[1m1s\u001b[0m 10ms/step - accuracy: 0.7997 - loss: 0.4565 - val_accuracy: 0.6829 - val_loss: 0.5679\n",
      "Epoch 63/100\n",
      "\u001b[1m49/50\u001b[0m \u001b[32m━━━━━━━━━━━━━━━━━━━\u001b[0m\u001b[37m━\u001b[0m \u001b[1m0s\u001b[0m 4ms/step - accuracy: 0.7637 - loss: 0.5030\n",
      "Epoch 63: val_accuracy did not improve from 0.70732\n",
      "\u001b[1m50/50\u001b[0m \u001b[32m━━━━━━━━━━━━━━━━━━━━\u001b[0m\u001b[37m\u001b[0m \u001b[1m1s\u001b[0m 10ms/step - accuracy: 0.7639 - loss: 0.5025 - val_accuracy: 0.6667 - val_loss: 0.6269\n",
      "Epoch 64/100\n",
      "\u001b[1m45/50\u001b[0m \u001b[32m━━━━━━━━━━━━━━━━━━\u001b[0m\u001b[37m━━\u001b[0m \u001b[1m0s\u001b[0m 5ms/step - accuracy: 0.7237 - loss: 0.5323\n",
      "Epoch 64: val_accuracy did not improve from 0.70732\n",
      "\u001b[1m50/50\u001b[0m \u001b[32m━━━━━━━━━━━━━━━━━━━━\u001b[0m\u001b[37m\u001b[0m \u001b[1m1s\u001b[0m 10ms/step - accuracy: 0.7256 - loss: 0.5292 - val_accuracy: 0.6911 - val_loss: 0.5691\n",
      "Epoch 65/100\n",
      "\u001b[1m45/50\u001b[0m \u001b[32m━━━━━━━━━━━━━━━━━━\u001b[0m\u001b[37m━━\u001b[0m \u001b[1m0s\u001b[0m 5ms/step - accuracy: 0.7572 - loss: 0.4874\n",
      "Epoch 65: val_accuracy did not improve from 0.70732\n",
      "\u001b[1m50/50\u001b[0m \u001b[32m━━━━━━━━━━━━━━━━━━━━\u001b[0m\u001b[37m\u001b[0m \u001b[1m1s\u001b[0m 11ms/step - accuracy: 0.7581 - loss: 0.4885 - val_accuracy: 0.6829 - val_loss: 0.6036\n",
      "Epoch 66/100\n",
      "\u001b[1m47/50\u001b[0m \u001b[32m━━━━━━━━━━━━━━━━━━\u001b[0m\u001b[37m━━\u001b[0m \u001b[1m0s\u001b[0m 6ms/step - accuracy: 0.7403 - loss: 0.5340\n",
      "Epoch 66: val_accuracy did not improve from 0.70732\n",
      "\u001b[1m50/50\u001b[0m \u001b[32m━━━━━━━━━━━━━━━━━━━━\u001b[0m\u001b[37m\u001b[0m \u001b[1m1s\u001b[0m 13ms/step - accuracy: 0.7421 - loss: 0.5305 - val_accuracy: 0.6911 - val_loss: 0.6407\n",
      "Epoch 67/100\n",
      "\u001b[1m45/50\u001b[0m \u001b[32m━━━━━━━━━━━━━━━━━━\u001b[0m\u001b[37m━━\u001b[0m \u001b[1m0s\u001b[0m 6ms/step - accuracy: 0.7417 - loss: 0.5211\n",
      "Epoch 67: val_accuracy did not improve from 0.70732\n",
      "\u001b[1m50/50\u001b[0m \u001b[32m━━━━━━━━━━━━━━━━━━━━\u001b[0m\u001b[37m\u001b[0m \u001b[1m1s\u001b[0m 15ms/step - accuracy: 0.7434 - loss: 0.5170 - val_accuracy: 0.7073 - val_loss: 0.5613\n",
      "Epoch 68/100\n",
      "\u001b[1m50/50\u001b[0m \u001b[32m━━━━━━━━━━━━━━━━━━━━\u001b[0m\u001b[37m\u001b[0m \u001b[1m0s\u001b[0m 5ms/step - accuracy: 0.7482 - loss: 0.4943\n",
      "Epoch 68: val_accuracy did not improve from 0.70732\n",
      "\u001b[1m50/50\u001b[0m \u001b[32m━━━━━━━━━━━━━━━━━━━━\u001b[0m\u001b[37m\u001b[0m \u001b[1m1s\u001b[0m 11ms/step - accuracy: 0.7485 - loss: 0.4940 - val_accuracy: 0.6829 - val_loss: 0.5993\n",
      "Epoch 69/100\n",
      "\u001b[1m50/50\u001b[0m \u001b[32m━━━━━━━━━━━━━━━━━━━━\u001b[0m\u001b[37m\u001b[0m \u001b[1m0s\u001b[0m 5ms/step - accuracy: 0.7807 - loss: 0.4507\n",
      "Epoch 69: val_accuracy did not improve from 0.70732\n",
      "\u001b[1m50/50\u001b[0m \u001b[32m━━━━━━━━━━━━━━━━━━━━\u001b[0m\u001b[37m\u001b[0m \u001b[1m1s\u001b[0m 11ms/step - accuracy: 0.7807 - loss: 0.4513 - val_accuracy: 0.6992 - val_loss: 0.5643\n",
      "Epoch 70/100\n",
      "\u001b[1m48/50\u001b[0m \u001b[32m━━━━━━━━━━━━━━━━━━━\u001b[0m\u001b[37m━\u001b[0m \u001b[1m0s\u001b[0m 8ms/step - accuracy: 0.7569 - loss: 0.4917\n",
      "Epoch 70: val_accuracy did not improve from 0.70732\n",
      "\u001b[1m50/50\u001b[0m \u001b[32m━━━━━━━━━━━━━━━━━━━━\u001b[0m\u001b[37m\u001b[0m \u001b[1m1s\u001b[0m 14ms/step - accuracy: 0.7576 - loss: 0.4911 - val_accuracy: 0.6748 - val_loss: 0.5736\n",
      "Epoch 71/100\n",
      "\u001b[1m45/50\u001b[0m \u001b[32m━━━━━━━━━━━━━━━━━━\u001b[0m\u001b[37m━━\u001b[0m \u001b[1m0s\u001b[0m 5ms/step - accuracy: 0.7439 - loss: 0.4942\n",
      "Epoch 71: val_accuracy did not improve from 0.70732\n",
      "\u001b[1m50/50\u001b[0m \u001b[32m━━━━━━━━━━━━━━━━━━━━\u001b[0m\u001b[37m\u001b[0m \u001b[1m1s\u001b[0m 10ms/step - accuracy: 0.7457 - loss: 0.4927 - val_accuracy: 0.6748 - val_loss: 0.6231\n",
      "Epoch 72/100\n",
      "\u001b[1m45/50\u001b[0m \u001b[32m━━━━━━━━━━━━━━━━━━\u001b[0m\u001b[37m━━\u001b[0m \u001b[1m0s\u001b[0m 5ms/step - accuracy: 0.7585 - loss: 0.4885\n",
      "Epoch 72: val_accuracy did not improve from 0.70732\n",
      "\u001b[1m50/50\u001b[0m \u001b[32m━━━━━━━━━━━━━━━━━━━━\u001b[0m\u001b[37m\u001b[0m \u001b[1m1s\u001b[0m 10ms/step - accuracy: 0.7603 - loss: 0.4874 - val_accuracy: 0.6829 - val_loss: 0.5898\n",
      "Epoch 73/100\n",
      "\u001b[1m47/50\u001b[0m \u001b[32m━━━━━━━━━━━━━━━━━━\u001b[0m\u001b[37m━━\u001b[0m \u001b[1m0s\u001b[0m 5ms/step - accuracy: 0.7758 - loss: 0.4634\n",
      "Epoch 73: val_accuracy did not improve from 0.70732\n",
      "\u001b[1m50/50\u001b[0m \u001b[32m━━━━━━━━━━━━━━━━━━━━\u001b[0m\u001b[37m\u001b[0m \u001b[1m1s\u001b[0m 10ms/step - accuracy: 0.7747 - loss: 0.4651 - val_accuracy: 0.6992 - val_loss: 0.5584\n",
      "Epoch 74/100\n",
      "\u001b[1m46/50\u001b[0m \u001b[32m━━━━━━━━━━━━━━━━━━\u001b[0m\u001b[37m━━\u001b[0m \u001b[1m0s\u001b[0m 5ms/step - accuracy: 0.8076 - loss: 0.4578\n",
      "Epoch 74: val_accuracy did not improve from 0.70732\n",
      "\u001b[1m50/50\u001b[0m \u001b[32m━━━━━━━━━━━━━━━━━━━━\u001b[0m\u001b[37m\u001b[0m \u001b[1m1s\u001b[0m 10ms/step - accuracy: 0.8050 - loss: 0.4598 - val_accuracy: 0.6992 - val_loss: 0.5588\n",
      "Epoch 75/100\n",
      "\u001b[1m45/50\u001b[0m \u001b[32m━━━━━━━━━━━━━━━━━━\u001b[0m\u001b[37m━━\u001b[0m \u001b[1m0s\u001b[0m 5ms/step - accuracy: 0.7689 - loss: 0.4549\n",
      "Epoch 75: val_accuracy did not improve from 0.70732\n",
      "\u001b[1m50/50\u001b[0m \u001b[32m━━━━━━━━━━━━━━━━━━━━\u001b[0m\u001b[37m\u001b[0m \u001b[1m1s\u001b[0m 10ms/step - accuracy: 0.7668 - loss: 0.4574 - val_accuracy: 0.6911 - val_loss: 0.5653\n",
      "Epoch 76/100\n",
      "\u001b[1m46/50\u001b[0m \u001b[32m━━━━━━━━━━━━━━━━━━\u001b[0m\u001b[37m━━\u001b[0m \u001b[1m0s\u001b[0m 5ms/step - accuracy: 0.7773 - loss: 0.4906\n",
      "Epoch 76: val_accuracy did not improve from 0.70732\n",
      "\u001b[1m50/50\u001b[0m \u001b[32m━━━━━━━━━━━━━━━━━━━━\u001b[0m\u001b[37m\u001b[0m \u001b[1m1s\u001b[0m 10ms/step - accuracy: 0.7769 - loss: 0.4901 - val_accuracy: 0.6504 - val_loss: 0.5925\n",
      "Epoch 77/100\n",
      "\u001b[1m47/50\u001b[0m \u001b[32m━━━━━━━━━━━━━━━━━━\u001b[0m\u001b[37m━━\u001b[0m \u001b[1m0s\u001b[0m 4ms/step - accuracy: 0.7677 - loss: 0.4742\n",
      "Epoch 77: val_accuracy did not improve from 0.70732\n",
      "\u001b[1m50/50\u001b[0m \u001b[32m━━━━━━━━━━━━━━━━━━━━\u001b[0m\u001b[37m\u001b[0m \u001b[1m1s\u001b[0m 10ms/step - accuracy: 0.7675 - loss: 0.4749 - val_accuracy: 0.6829 - val_loss: 0.5671\n",
      "Epoch 78/100\n",
      "\u001b[1m48/50\u001b[0m \u001b[32m━━━━━━━━━━━━━━━━━━━\u001b[0m\u001b[37m━\u001b[0m \u001b[1m0s\u001b[0m 4ms/step - accuracy: 0.7909 - loss: 0.4801\n",
      "Epoch 78: val_accuracy did not improve from 0.70732\n",
      "\u001b[1m50/50\u001b[0m \u001b[32m━━━━━━━━━━━━━━━━━━━━\u001b[0m\u001b[37m\u001b[0m \u001b[1m1s\u001b[0m 10ms/step - accuracy: 0.7905 - loss: 0.4798 - val_accuracy: 0.6829 - val_loss: 0.6028\n",
      "Epoch 79/100\n",
      "\u001b[1m50/50\u001b[0m \u001b[32m━━━━━━━━━━━━━━━━━━━━\u001b[0m\u001b[37m\u001b[0m \u001b[1m0s\u001b[0m 4ms/step - accuracy: 0.7305 - loss: 0.5268\n",
      "Epoch 79: val_accuracy did not improve from 0.70732\n",
      "\u001b[1m50/50\u001b[0m \u001b[32m━━━━━━━━━━━━━━━━━━━━\u001b[0m\u001b[37m\u001b[0m \u001b[1m1s\u001b[0m 10ms/step - accuracy: 0.7311 - loss: 0.5263 - val_accuracy: 0.6911 - val_loss: 0.5734\n",
      "Epoch 80/100\n",
      "\u001b[1m47/50\u001b[0m \u001b[32m━━━━━━━━━━━━━━━━━━\u001b[0m\u001b[37m━━\u001b[0m \u001b[1m0s\u001b[0m 5ms/step - accuracy: 0.7857 - loss: 0.4575\n",
      "Epoch 80: val_accuracy did not improve from 0.70732\n",
      "\u001b[1m50/50\u001b[0m \u001b[32m━━━━━━━━━━━━━━━━━━━━\u001b[0m\u001b[37m\u001b[0m \u001b[1m1s\u001b[0m 10ms/step - accuracy: 0.7849 - loss: 0.4598 - val_accuracy: 0.6992 - val_loss: 0.5688\n",
      "Epoch 81/100\n",
      "\u001b[1m42/50\u001b[0m \u001b[32m━━━━━━━━━━━━━━━━\u001b[0m\u001b[37m━━━━\u001b[0m \u001b[1m0s\u001b[0m 5ms/step - accuracy: 0.7824 - loss: 0.4807\n",
      "Epoch 81: val_accuracy did not improve from 0.70732\n",
      "\u001b[1m50/50\u001b[0m \u001b[32m━━━━━━━━━━━━━━━━━━━━\u001b[0m\u001b[37m\u001b[0m \u001b[1m1s\u001b[0m 11ms/step - accuracy: 0.7816 - loss: 0.4812 - val_accuracy: 0.6829 - val_loss: 0.5638\n",
      "Epoch 82/100\n",
      "\u001b[1m43/50\u001b[0m \u001b[32m━━━━━━━━━━━━━━━━━\u001b[0m\u001b[37m━━━\u001b[0m \u001b[1m0s\u001b[0m 5ms/step - accuracy: 0.8055 - loss: 0.4513\n",
      "Epoch 82: val_accuracy did not improve from 0.70732\n",
      "\u001b[1m50/50\u001b[0m \u001b[32m━━━━━━━━━━━━━━━━━━━━\u001b[0m\u001b[37m\u001b[0m \u001b[1m1s\u001b[0m 10ms/step - accuracy: 0.7985 - loss: 0.4568 - val_accuracy: 0.6748 - val_loss: 0.6201\n",
      "Epoch 83/100\n",
      "\u001b[1m49/50\u001b[0m \u001b[32m━━━━━━━━━━━━━━━━━━━\u001b[0m\u001b[37m━\u001b[0m \u001b[1m0s\u001b[0m 7ms/step - accuracy: 0.7509 - loss: 0.4930\n",
      "Epoch 83: val_accuracy did not improve from 0.70732\n",
      "\u001b[1m50/50\u001b[0m \u001b[32m━━━━━━━━━━━━━━━━━━━━\u001b[0m\u001b[37m\u001b[0m \u001b[1m1s\u001b[0m 13ms/step - accuracy: 0.7512 - loss: 0.4926 - val_accuracy: 0.6992 - val_loss: 0.5590\n",
      "Epoch 84/100\n",
      "\u001b[1m46/50\u001b[0m \u001b[32m━━━━━━━━━━━━━━━━━━\u001b[0m\u001b[37m━━\u001b[0m \u001b[1m0s\u001b[0m 5ms/step - accuracy: 0.7883 - loss: 0.4819\n",
      "Epoch 84: val_accuracy did not improve from 0.70732\n",
      "\u001b[1m50/50\u001b[0m \u001b[32m━━━━━━━━━━━━━━━━━━━━\u001b[0m\u001b[37m\u001b[0m \u001b[1m1s\u001b[0m 11ms/step - accuracy: 0.7885 - loss: 0.4816 - val_accuracy: 0.6992 - val_loss: 0.5574\n",
      "Epoch 85/100\n",
      "\u001b[1m45/50\u001b[0m \u001b[32m━━━━━━━━━━━━━━━━━━\u001b[0m\u001b[37m━━\u001b[0m \u001b[1m0s\u001b[0m 5ms/step - accuracy: 0.7608 - loss: 0.4799\n",
      "Epoch 85: val_accuracy did not improve from 0.70732\n",
      "\u001b[1m50/50\u001b[0m \u001b[32m━━━━━━━━━━━━━━━━━━━━\u001b[0m\u001b[37m\u001b[0m \u001b[1m1s\u001b[0m 10ms/step - accuracy: 0.7623 - loss: 0.4788 - val_accuracy: 0.6667 - val_loss: 0.6252\n",
      "Epoch 86/100\n",
      "\u001b[1m44/50\u001b[0m \u001b[32m━━━━━━━━━━━━━━━━━\u001b[0m\u001b[37m━━━\u001b[0m \u001b[1m0s\u001b[0m 5ms/step - accuracy: 0.7849 - loss: 0.4704\n",
      "Epoch 86: val_accuracy did not improve from 0.70732\n",
      "\u001b[1m50/50\u001b[0m \u001b[32m━━━━━━━━━━━━━━━━━━━━\u001b[0m\u001b[37m\u001b[0m \u001b[1m1s\u001b[0m 10ms/step - accuracy: 0.7833 - loss: 0.4712 - val_accuracy: 0.7073 - val_loss: 0.5612\n",
      "Epoch 87/100\n",
      "\u001b[1m50/50\u001b[0m \u001b[32m━━━━━━━━━━━━━━━━━━━━\u001b[0m\u001b[37m\u001b[0m \u001b[1m0s\u001b[0m 6ms/step - accuracy: 0.7606 - loss: 0.4804\n",
      "Epoch 87: val_accuracy improved from 0.70732 to 0.71545, saving model to Pima_Diabetes_Classification.keras\n",
      "\u001b[1m50/50\u001b[0m \u001b[32m━━━━━━━━━━━━━━━━━━━━\u001b[0m\u001b[37m\u001b[0m \u001b[1m1s\u001b[0m 16ms/step - accuracy: 0.7607 - loss: 0.4802 - val_accuracy: 0.7154 - val_loss: 0.5563\n",
      "Epoch 88/100\n",
      "\u001b[1m47/50\u001b[0m \u001b[32m━━━━━━━━━━━━━━━━━━\u001b[0m\u001b[37m━━\u001b[0m \u001b[1m0s\u001b[0m 5ms/step - accuracy: 0.7694 - loss: 0.4742\n",
      "Epoch 88: val_accuracy improved from 0.71545 to 0.72358, saving model to Pima_Diabetes_Classification.keras\n",
      "\u001b[1m50/50\u001b[0m \u001b[32m━━━━━━━━━━━━━━━━━━━━\u001b[0m\u001b[37m\u001b[0m \u001b[1m1s\u001b[0m 11ms/step - accuracy: 0.7691 - loss: 0.4751 - val_accuracy: 0.7236 - val_loss: 0.5585\n",
      "Epoch 89/100\n",
      "\u001b[1m46/50\u001b[0m \u001b[32m━━━━━━━━━━━━━━━━━━\u001b[0m\u001b[37m━━\u001b[0m \u001b[1m0s\u001b[0m 5ms/step - accuracy: 0.7966 - loss: 0.4630\n",
      "Epoch 89: val_accuracy did not improve from 0.72358\n",
      "\u001b[1m50/50\u001b[0m \u001b[32m━━━━━━━━━━━━━━━━━━━━\u001b[0m\u001b[37m\u001b[0m \u001b[1m1s\u001b[0m 10ms/step - accuracy: 0.7948 - loss: 0.4648 - val_accuracy: 0.6748 - val_loss: 0.5679\n",
      "Epoch 90/100\n",
      "\u001b[1m48/50\u001b[0m \u001b[32m━━━━━━━━━━━━━━━━━━━\u001b[0m\u001b[37m━\u001b[0m \u001b[1m0s\u001b[0m 4ms/step - accuracy: 0.8056 - loss: 0.4738\n",
      "Epoch 90: val_accuracy did not improve from 0.72358\n",
      "\u001b[1m50/50\u001b[0m \u001b[32m━━━━━━━━━━━━━━━━━━━━\u001b[0m\u001b[37m\u001b[0m \u001b[1m1s\u001b[0m 11ms/step - accuracy: 0.8036 - loss: 0.4750 - val_accuracy: 0.6748 - val_loss: 0.5850\n",
      "Epoch 91/100\n",
      "\u001b[1m46/50\u001b[0m \u001b[32m━━━━━━━━━━━━━━━━━━\u001b[0m\u001b[37m━━\u001b[0m \u001b[1m0s\u001b[0m 5ms/step - accuracy: 0.7542 - loss: 0.4944\n",
      "Epoch 91: val_accuracy did not improve from 0.72358\n",
      "\u001b[1m50/50\u001b[0m \u001b[32m━━━━━━━━━━━━━━━━━━━━\u001b[0m\u001b[37m\u001b[0m \u001b[1m1s\u001b[0m 10ms/step - accuracy: 0.7565 - loss: 0.4933 - val_accuracy: 0.7073 - val_loss: 0.5564\n",
      "Epoch 92/100\n",
      "\u001b[1m45/50\u001b[0m \u001b[32m━━━━━━━━━━━━━━━━━━\u001b[0m\u001b[37m━━\u001b[0m \u001b[1m0s\u001b[0m 5ms/step - accuracy: 0.7630 - loss: 0.5222\n",
      "Epoch 92: val_accuracy did not improve from 0.72358\n",
      "\u001b[1m50/50\u001b[0m \u001b[32m━━━━━━━━━━━━━━━━━━━━\u001b[0m\u001b[37m\u001b[0m \u001b[1m1s\u001b[0m 10ms/step - accuracy: 0.7635 - loss: 0.5211 - val_accuracy: 0.6992 - val_loss: 0.5535\n",
      "Epoch 93/100\n",
      "\u001b[1m45/50\u001b[0m \u001b[32m━━━━━━━━━━━━━━━━━━\u001b[0m\u001b[37m━━\u001b[0m \u001b[1m0s\u001b[0m 5ms/step - accuracy: 0.7963 - loss: 0.4568\n",
      "Epoch 93: val_accuracy did not improve from 0.72358\n",
      "\u001b[1m50/50\u001b[0m \u001b[32m━━━━━━━━━━━━━━━━━━━━\u001b[0m\u001b[37m\u001b[0m \u001b[1m1s\u001b[0m 10ms/step - accuracy: 0.7934 - loss: 0.4593 - val_accuracy: 0.6829 - val_loss: 0.5850\n",
      "Epoch 94/100\n",
      "\u001b[1m48/50\u001b[0m \u001b[32m━━━━━━━━━━━━━━━━━━━\u001b[0m\u001b[37m━\u001b[0m \u001b[1m0s\u001b[0m 4ms/step - accuracy: 0.7942 - loss: 0.4476\n",
      "Epoch 94: val_accuracy did not improve from 0.72358\n",
      "\u001b[1m50/50\u001b[0m \u001b[32m━━━━━━━━━━━━━━━━━━━━\u001b[0m\u001b[37m\u001b[0m \u001b[1m1s\u001b[0m 10ms/step - accuracy: 0.7928 - loss: 0.4490 - val_accuracy: 0.6992 - val_loss: 0.5544\n",
      "Epoch 95/100\n",
      "\u001b[1m45/50\u001b[0m \u001b[32m━━━━━━━━━━━━━━━━━━\u001b[0m\u001b[37m━━\u001b[0m \u001b[1m0s\u001b[0m 5ms/step - accuracy: 0.7785 - loss: 0.4645\n",
      "Epoch 95: val_accuracy did not improve from 0.72358\n",
      "\u001b[1m50/50\u001b[0m \u001b[32m━━━━━━━━━━━━━━━━━━━━\u001b[0m\u001b[37m\u001b[0m \u001b[1m1s\u001b[0m 11ms/step - accuracy: 0.7784 - loss: 0.4649 - val_accuracy: 0.7073 - val_loss: 0.5554\n",
      "Epoch 96/100\n",
      "\u001b[1m45/50\u001b[0m \u001b[32m━━━━━━━━━━━━━━━━━━\u001b[0m\u001b[37m━━\u001b[0m \u001b[1m0s\u001b[0m 5ms/step - accuracy: 0.7420 - loss: 0.5176\n",
      "Epoch 96: val_accuracy did not improve from 0.72358\n",
      "\u001b[1m50/50\u001b[0m \u001b[32m━━━━━━━━━━━━━━━━━━━━\u001b[0m\u001b[37m\u001b[0m \u001b[1m1s\u001b[0m 10ms/step - accuracy: 0.7439 - loss: 0.5138 - val_accuracy: 0.6829 - val_loss: 0.5854\n",
      "Epoch 97/100\n",
      "\u001b[1m49/50\u001b[0m \u001b[32m━━━━━━━━━━━━━━━━━━━\u001b[0m\u001b[37m━\u001b[0m \u001b[1m0s\u001b[0m 4ms/step - accuracy: 0.7725 - loss: 0.4795\n",
      "Epoch 97: val_accuracy did not improve from 0.72358\n",
      "\u001b[1m50/50\u001b[0m \u001b[32m━━━━━━━━━━━━━━━━━━━━\u001b[0m\u001b[37m\u001b[0m \u001b[1m1s\u001b[0m 10ms/step - accuracy: 0.7728 - loss: 0.4794 - val_accuracy: 0.6748 - val_loss: 0.5757\n",
      "Epoch 98/100\n",
      "\u001b[1m48/50\u001b[0m \u001b[32m━━━━━━━━━━━━━━━━━━━\u001b[0m\u001b[37m━\u001b[0m \u001b[1m0s\u001b[0m 4ms/step - accuracy: 0.7396 - loss: 0.5302\n",
      "Epoch 98: val_accuracy did not improve from 0.72358\n",
      "\u001b[1m50/50\u001b[0m \u001b[32m━━━━━━━━━━━━━━━━━━━━\u001b[0m\u001b[37m\u001b[0m \u001b[1m1s\u001b[0m 10ms/step - accuracy: 0.7414 - loss: 0.5281 - val_accuracy: 0.6829 - val_loss: 0.5907\n",
      "Epoch 99/100\n",
      "\u001b[1m47/50\u001b[0m \u001b[32m━━━━━━━━━━━━━━━━━━\u001b[0m\u001b[37m━━\u001b[0m \u001b[1m0s\u001b[0m 5ms/step - accuracy: 0.7926 - loss: 0.4450\n",
      "Epoch 99: val_accuracy did not improve from 0.72358\n",
      "\u001b[1m50/50\u001b[0m \u001b[32m━━━━━━━━━━━━━━━━━━━━\u001b[0m\u001b[37m\u001b[0m \u001b[1m1s\u001b[0m 11ms/step - accuracy: 0.7914 - loss: 0.4473 - val_accuracy: 0.6748 - val_loss: 0.5746\n",
      "Epoch 100/100\n",
      "\u001b[1m48/50\u001b[0m \u001b[32m━━━━━━━━━━━━━━━━━━━\u001b[0m\u001b[37m━\u001b[0m \u001b[1m0s\u001b[0m 4ms/step - accuracy: 0.7964 - loss: 0.4539\n",
      "Epoch 100: val_accuracy did not improve from 0.72358\n",
      "\u001b[1m50/50\u001b[0m \u001b[32m━━━━━━━━━━━━━━━━━━━━\u001b[0m\u001b[37m\u001b[0m \u001b[1m1s\u001b[0m 10ms/step - accuracy: 0.7951 - loss: 0.4550 - val_accuracy: 0.6911 - val_loss: 0.5844\n"
     ]
    },
    {
     "data": {
      "text/plain": [
       "<keras.src.callbacks.history.History at 0x2b02e1be1e0>"
      ]
     },
     "execution_count": 26,
     "metadata": {},
     "output_type": "execute_result"
    }
   ],
   "source": [
    "from keras.callbacks import ModelCheckpoint, EarlyStopping\n",
    "checkpoint_path = \"Pima_Diabetes_Classification.keras\"\n",
    "checkpoint = ModelCheckpoint(checkpoint_path, monitor='val_accuracy', verbose=1, save_best_only=True, mode='max')\n",
    "callbacks_list = [checkpoint]\n",
    "model.fit(X_train, Y_train, validation_split=0.2, epochs=100, batch_size=10, callbacks=callbacks_list)"
   ]
  },
  {
   "cell_type": "code",
   "execution_count": null,
   "id": "4962fb01-cd66-42d2-a8ec-608adc394440",
   "metadata": {},
   "outputs": [],
   "source": []
  },
  {
   "cell_type": "markdown",
   "id": "0a4e3012-1eaf-4e11-a198-1b8310167233",
   "metadata": {},
   "source": [
    "\n",
    "#This converts the probabilities into binary class predictions:\n",
    "\n",
    "#If the prediction is > 0.5 → predict 1 (diabetic)Else → predict 0 (non-diabetic)\n",
    "\n",
    "#.astype(\"int32\")\n",
    "\n",
    "#This converts the result from boolean (True/False) into integer format (1/0),\n",
    "#so it's compatible with the actual target labels (Y_test)."
   ]
  },
  {
   "cell_type": "code",
   "execution_count": 29,
   "id": "dd33499f",
   "metadata": {
    "id": "dd33499f",
    "outputId": "521ce36f-8e75-4d49-fda3-72de0c6c4a40"
   },
   "outputs": [
    {
     "name": "stdout",
     "output_type": "stream",
     "text": [
      "\u001b[1m5/5\u001b[0m \u001b[32m━━━━━━━━━━━━━━━━━━━━\u001b[0m\u001b[37m\u001b[0m \u001b[1m0s\u001b[0m 44ms/step\n"
     ]
    },
    {
     "data": {
      "text/plain": [
       "0.7012987012987013"
      ]
     },
     "execution_count": 29,
     "metadata": {},
     "output_type": "execute_result"
    }
   ],
   "source": [
    "from tensorflow.keras.models import load_model\n",
    "# load model\n",
    "model = load_model('Pima_Diabetes_Classification.keras')\n",
    "load_pred=(model.predict(X_test) > 0.5).astype(\"int32\")\n",
    "\n",
    "accuracy_score(Y_test, load_pred)"
   ]
  },
  {
   "cell_type": "code",
   "execution_count": 30,
   "id": "fd18e509-516b-47ba-83b8-dad0f86fa1ab",
   "metadata": {},
   "outputs": [
    {
     "data": {
      "image/png": "[encoded data removed]",
      "text/plain": [
       "<Figure size 500x300 with 2 Axes>"
      ]
     },
     "metadata": {},
     "output_type": "display_data"
    }
   ],
   "source": [
    "from sklearn.metrics import confusion_matrix, ConfusionMatrixDisplay, roc_curve, auc\n",
    "#Confusion matrix\n",
    "cm = confusion_matrix(Y_test, load_pred)\n",
    "# Display with labels\n",
    "disp = ConfusionMatrixDisplay(confusion_matrix=cm, display_labels=[\"No Diabetes\", \"Diabetes\"])\n",
    "disp.plot(cmap='Blues')\n",
    "plt.title(\"Confusion Matrix\")\n",
    "plt.show()"
   ]
  },
  {
   "cell_type": "markdown",
   "id": "3e9d3d03-ef3f-4fa5-9634-f3f17651765b",
   "metadata": {},
   "source": [
    "True Negatives (top-left): Model correctly predicted no diabetes\n",
    "\n",
    "False Positives (top-right): Model predicted diabetes but patient is not\n",
    "\n",
    "False Negatives (bottom-left): Model predicted no diabetes but patient is\n",
    "\n",
    "True Positives (bottom-right): Model correctly predicted diabetes"
   ]
  },
  {
   "cell_type": "markdown",
   "id": "e4fd0767-b75f-4ebc-b4b7-db189b4ea717",
   "metadata": {},
   "source": [
    "💊 True Label: \"No Diabetes\"\n",
    "Predicted as No Diabetes: 82\n",
    "\n",
    "Predicted as Diabetes (False Positive):   17\n",
    "\n",
    "✅ Total Non-Diabetic Patients =   82 + 17 = 99\n",
    "\n",
    "\n",
    "💉 True Label: \"Diabetes\"\n",
    "Predicted as No Diabetes (False Negative): 29\n",
    "\n",
    "\n",
    "Predicted as Diabetes:   26\n",
    "\n",
    "✅ Total Diabetic Patients =   29 + 26 = 55\n",
    "\n",
    "    Category\t         Count\n",
    "\n",
    "    Non-Diabetic\t           99\n",
    "    Diabetic\t           55\n",
    "    Total Patients\t           154"
   ]
  },
  {
   "cell_type": "markdown",
   "id": "82a031e0-0539-4251-a570-f0c957a755bb",
   "metadata": {},
   "source": [
    "That means:\n",
    "\n",
    "80% (≈614) of the data is were used for my training\n",
    "\n",
    "20% (≈154) is used for my testing\n",
    "\n",
    "✔️ The 154 patients shown in the confusion matrix are the Y_test values (true labels) and the predictions (load_pred) from my trained model."
   ]
  },
  {
   "cell_type": "code",
   "execution_count": 31,
   "id": "ef3fb350-bb34-44c7-b6f1-462d62226f12",
   "metadata": {},
   "outputs": [
    {
     "name": "stdout",
     "output_type": "stream",
     "text": [
      "\u001b[1m5/5\u001b[0m \u001b[32m━━━━━━━━━━━━━━━━━━━━\u001b[0m\u001b[37m\u001b[0m \u001b[1m0s\u001b[0m 29ms/step\n"
     ]
    },
    {
     "data": {
      "image/png": "[encoded data removed]",
      "text/plain": [
       "<Figure size 600x600 with 1 Axes>"
      ]
     },
     "metadata": {},
     "output_type": "display_data"
    }
   ],
   "source": [
    "#Get predicted probabilities (not just class labels)\n",
    "y_probs = model.predict(X_test)\n",
    "#ROC values\n",
    "fpr, tpr, thresholds = roc_curve(Y_test, y_probs)\n",
    "roc_auc = auc(fpr, tpr)\n",
    "\n",
    "#Plotting ROC curve\n",
    "plt.figure(figsize=(6, 6))\n",
    "plt.plot(fpr, tpr, label='AUC = {:.2f}'.format(roc_auc), color='darkorange')\n",
    "plt.plot([0, 1], [0, 1], linestyle='--', color='gray')\n",
    "plt.title(\"Receiver Operating Characteristic (ROC) Curve\")\n",
    "plt.xlabel(\"False Positive Rate\")\n",
    "plt.ylabel(\"True Positive Rate\")\n",
    "plt.legend(loc='lower right')\n",
    "plt.grid(True)\n",
    "plt.show()"
   ]
  },
  {
   "cell_type": "markdown",
   "id": "63fa4345-c570-4130-b816-565f0fe8e87b",
   "metadata": {},
   "source": [
    "A curve closer to the top-left means better performance.\n",
    "\n",
    "AUC (Area Under Curve) closer to 1 = excellent model.\n",
    "\n",
    "AUC = 0.5 = no better than random guess."
   ]
  },
  {
   "cell_type": "markdown",
   "id": "65cc509b-2be2-4308-a19d-6c13f5b257eb",
   "metadata": {},
   "source": [
    "## Show classification Report"
   ]
  },
  {
   "cell_type": "code",
   "execution_count": 32,
   "id": "e97df9b5-87c2-46fb-8330-182ebb891e4f",
   "metadata": {},
   "outputs": [
    {
     "name": "stdout",
     "output_type": "stream",
     "text": [
      "              precision    recall  f1-score   support\n",
      "\n",
      " No Diabetes       0.74      0.83      0.78        99\n",
      "    Diabetes       0.60      0.47      0.53        55\n",
      "\n",
      "    accuracy                           0.70       154\n",
      "   macro avg       0.67      0.65      0.66       154\n",
      "weighted avg       0.69      0.70      0.69       154\n",
      "\n"
     ]
    }
   ],
   "source": [
    "from sklearn.metrics import classification_report\n",
    "print(classification_report(Y_test, load_pred, target_names=[\"No Diabetes\", \"Diabetes\"]))"
   ]
  },
  {
   "cell_type": "code",
   "execution_count": 33,
   "id": "8706ab76",
   "metadata": {
    "id": "8706ab76",
    "outputId": "9f067504-b85d-4346-e551-22049f0f8038"
   },
   "outputs": [
    {
     "name": "stdout",
     "output_type": "stream",
     "text": [
      "Epoch 1/100\n",
      "\u001b[1m48/50\u001b[0m \u001b[32m━━━━━━━━━━━━━━━━━━━\u001b[0m\u001b[37m━\u001b[0m \u001b[1m0s\u001b[0m 4ms/step - accuracy: 0.8230 - loss: 0.4381\n",
      "Epoch 1: val_accuracy improved from -inf to 0.67480, saving model to Pima_Diabetes_Classification.keras\n",
      "\u001b[1m50/50\u001b[0m \u001b[32m━━━━━━━━━━━━━━━━━━━━\u001b[0m\u001b[37m\u001b[0m \u001b[1m3s\u001b[0m 19ms/step - accuracy: 0.8206 - loss: 0.4407 - val_accuracy: 0.6748 - val_loss: 0.5683\n",
      "Epoch 2/100\n",
      "\u001b[1m45/50\u001b[0m \u001b[32m━━━━━━━━━━━━━━━━━━\u001b[0m\u001b[37m━━\u001b[0m \u001b[1m0s\u001b[0m 5ms/step - accuracy: 0.7630 - loss: 0.4991\n",
      "Epoch 2: val_accuracy did not improve from 0.67480\n",
      "\u001b[1m50/50\u001b[0m \u001b[32m━━━━━━━━━━━━━━━━━━━━\u001b[0m\u001b[37m\u001b[0m \u001b[1m1s\u001b[0m 9ms/step - accuracy: 0.7637 - loss: 0.4987 - val_accuracy: 0.6585 - val_loss: 0.5902\n",
      "Epoch 3/100\n",
      "\u001b[1m42/50\u001b[0m \u001b[32m━━━━━━━━━━━━━━━━\u001b[0m\u001b[37m━━━━\u001b[0m \u001b[1m0s\u001b[0m 6ms/step - accuracy: 0.7917 - loss: 0.4639\n",
      "Epoch 3: val_accuracy did not improve from 0.67480\n",
      "\u001b[1m50/50\u001b[0m \u001b[32m━━━━━━━━━━━━━━━━━━━━\u001b[0m\u001b[37m\u001b[0m \u001b[1m1s\u001b[0m 11ms/step - accuracy: 0.7832 - loss: 0.4704 - val_accuracy: 0.6748 - val_loss: 0.5786\n",
      "Epoch 4/100\n",
      "\u001b[1m43/50\u001b[0m \u001b[32m━━━━━━━━━━━━━━━━━\u001b[0m\u001b[37m━━━\u001b[0m \u001b[1m0s\u001b[0m 5ms/step - accuracy: 0.7759 - loss: 0.4763\n",
      "Epoch 4: val_accuracy improved from 0.67480 to 0.69106, saving model to Pima_Diabetes_Classification.keras\n",
      "\u001b[1m50/50\u001b[0m \u001b[32m━━━━━━━━━━━━━━━━━━━━\u001b[0m\u001b[37m\u001b[0m \u001b[1m1s\u001b[0m 11ms/step - accuracy: 0.7743 - loss: 0.4776 - val_accuracy: 0.6911 - val_loss: 0.6209\n",
      "Epoch 5/100\n",
      "\u001b[1m45/50\u001b[0m \u001b[32m━━━━━━━━━━━━━━━━━━\u001b[0m\u001b[37m━━\u001b[0m \u001b[1m0s\u001b[0m 5ms/step - accuracy: 0.7536 - loss: 0.4731\n",
      "Epoch 5: val_accuracy did not improve from 0.69106\n",
      "\u001b[1m50/50\u001b[0m \u001b[32m━━━━━━━━━━━━━━━━━━━━\u001b[0m\u001b[37m\u001b[0m \u001b[1m1s\u001b[0m 9ms/step - accuracy: 0.7540 - loss: 0.4757 - val_accuracy: 0.6829 - val_loss: 0.5573\n",
      "Epoch 6/100\n",
      "\u001b[1m47/50\u001b[0m \u001b[32m━━━━━━━━━━━━━━━━━━\u001b[0m\u001b[37m━━\u001b[0m \u001b[1m0s\u001b[0m 7ms/step - accuracy: 0.8008 - loss: 0.4275\n",
      "Epoch 6: val_accuracy did not improve from 0.69106\n",
      "\u001b[1m50/50\u001b[0m \u001b[32m━━━━━━━━━━━━━━━━━━━━\u001b[0m\u001b[37m\u001b[0m \u001b[1m1s\u001b[0m 13ms/step - accuracy: 0.7981 - loss: 0.4309 - val_accuracy: 0.6829 - val_loss: 0.6308\n",
      "Epoch 7/100\n",
      "\u001b[1m43/50\u001b[0m \u001b[32m━━━━━━━━━━━━━━━━━\u001b[0m\u001b[37m━━━\u001b[0m \u001b[1m0s\u001b[0m 6ms/step - accuracy: 0.7613 - loss: 0.5122\n",
      "Epoch 7: val_accuracy improved from 0.69106 to 0.69919, saving model to Pima_Diabetes_Classification.keras\n",
      "\u001b[1m50/50\u001b[0m \u001b[32m━━━━━━━━━━━━━━━━━━━━\u001b[0m\u001b[37m\u001b[0m \u001b[1m1s\u001b[0m 13ms/step - accuracy: 0.7614 - loss: 0.5090 - val_accuracy: 0.6992 - val_loss: 0.5557\n",
      "Epoch 8/100\n",
      "\u001b[1m48/50\u001b[0m \u001b[32m━━━━━━━━━━━━━━━━━━━\u001b[0m\u001b[37m━\u001b[0m \u001b[1m0s\u001b[0m 8ms/step - accuracy: 0.7793 - loss: 0.4871\n",
      "Epoch 8: val_accuracy did not improve from 0.69919\n",
      "\u001b[1m50/50\u001b[0m \u001b[32m━━━━━━━━━━━━━━━━━━━━\u001b[0m\u001b[37m\u001b[0m \u001b[1m1s\u001b[0m 14ms/step - accuracy: 0.7803 - loss: 0.4864 - val_accuracy: 0.6911 - val_loss: 0.5560\n",
      "Epoch 9/100\n",
      "\u001b[1m42/50\u001b[0m \u001b[32m━━━━━━━━━━━━━━━━\u001b[0m\u001b[37m━━━━\u001b[0m \u001b[1m0s\u001b[0m 5ms/step - accuracy: 0.7699 - loss: 0.4580\n",
      "Epoch 9: val_accuracy did not improve from 0.69919\n",
      "\u001b[1m50/50\u001b[0m \u001b[32m━━━━━━━━━━━━━━━━━━━━\u001b[0m\u001b[37m\u001b[0m \u001b[1m1s\u001b[0m 9ms/step - accuracy: 0.7694 - loss: 0.4616 - val_accuracy: 0.6829 - val_loss: 0.5583\n",
      "Epoch 10/100\n",
      "\u001b[1m44/50\u001b[0m \u001b[32m━━━━━━━━━━━━━━━━━\u001b[0m\u001b[37m━━━\u001b[0m \u001b[1m0s\u001b[0m 6ms/step - accuracy: 0.7713 - loss: 0.4594\n",
      "Epoch 10: val_accuracy did not improve from 0.69919\n",
      "\u001b[1m50/50\u001b[0m \u001b[32m━━━━━━━━━━━━━━━━━━━━\u001b[0m\u001b[37m\u001b[0m \u001b[1m1s\u001b[0m 10ms/step - accuracy: 0.7709 - loss: 0.4613 - val_accuracy: 0.6667 - val_loss: 0.5799\n",
      "Epoch 11/100\n",
      "\u001b[1m46/50\u001b[0m \u001b[32m━━━━━━━━━━━━━━━━━━\u001b[0m\u001b[37m━━\u001b[0m \u001b[1m0s\u001b[0m 5ms/step - accuracy: 0.7677 - loss: 0.4789\n",
      "Epoch 11: val_accuracy did not improve from 0.69919\n",
      "\u001b[1m50/50\u001b[0m \u001b[32m━━━━━━━━━━━━━━━━━━━━\u001b[0m\u001b[37m\u001b[0m \u001b[1m1s\u001b[0m 9ms/step - accuracy: 0.7681 - loss: 0.4797 - val_accuracy: 0.6911 - val_loss: 0.5623\n",
      "Epoch 12/100\n",
      "\u001b[1m42/50\u001b[0m \u001b[32m━━━━━━━━━━━━━━━━\u001b[0m\u001b[37m━━━━\u001b[0m \u001b[1m0s\u001b[0m 5ms/step - accuracy: 0.7653 - loss: 0.5041\n",
      "Epoch 12: val_accuracy improved from 0.69919 to 0.70732, saving model to Pima_Diabetes_Classification.keras\n",
      "\u001b[1m50/50\u001b[0m \u001b[32m━━━━━━━━━━━━━━━━━━━━\u001b[0m\u001b[37m\u001b[0m \u001b[1m1s\u001b[0m 11ms/step - accuracy: 0.7680 - loss: 0.4993 - val_accuracy: 0.7073 - val_loss: 0.5710\n",
      "Epoch 13/100\n",
      "\u001b[1m46/50\u001b[0m \u001b[32m━━━━━━━━━━━━━━━━━━\u001b[0m\u001b[37m━━\u001b[0m \u001b[1m0s\u001b[0m 5ms/step - accuracy: 0.7747 - loss: 0.4500\n",
      "Epoch 13: val_accuracy did not improve from 0.70732\n",
      "\u001b[1m50/50\u001b[0m \u001b[32m━━━━━━━━━━━━━━━━━━━━\u001b[0m\u001b[37m\u001b[0m \u001b[1m1s\u001b[0m 9ms/step - accuracy: 0.7733 - loss: 0.4531 - val_accuracy: 0.6748 - val_loss: 0.5984\n",
      "Epoch 14/100\n",
      "\u001b[1m44/50\u001b[0m \u001b[32m━━━━━━━━━━━━━━━━━\u001b[0m\u001b[37m━━━\u001b[0m \u001b[1m0s\u001b[0m 5ms/step - accuracy: 0.7573 - loss: 0.4853\n",
      "Epoch 14: val_accuracy did not improve from 0.70732\n",
      "\u001b[1m50/50\u001b[0m \u001b[32m━━━━━━━━━━━━━━━━━━━━\u001b[0m\u001b[37m\u001b[0m \u001b[1m1s\u001b[0m 9ms/step - accuracy: 0.7591 - loss: 0.4852 - val_accuracy: 0.7073 - val_loss: 0.5615\n",
      "Epoch 15/100\n",
      "\u001b[1m41/50\u001b[0m \u001b[32m━━━━━━━━━━━━━━━━\u001b[0m\u001b[37m━━━━\u001b[0m \u001b[1m0s\u001b[0m 5ms/step - accuracy: 0.7673 - loss: 0.4941\n",
      "Epoch 15: val_accuracy did not improve from 0.70732\n",
      "\u001b[1m50/50\u001b[0m \u001b[32m━━━━━━━━━━━━━━━━━━━━\u001b[0m\u001b[37m\u001b[0m \u001b[1m1s\u001b[0m 9ms/step - accuracy: 0.7686 - loss: 0.4916 - val_accuracy: 0.7073 - val_loss: 0.5531\n",
      "Epoch 16/100\n",
      "\u001b[1m47/50\u001b[0m \u001b[32m━━━━━━━━━━━━━━━━━━\u001b[0m\u001b[37m━━\u001b[0m \u001b[1m0s\u001b[0m 5ms/step - accuracy: 0.7805 - loss: 0.4749\n",
      "Epoch 16: val_accuracy did not improve from 0.70732\n",
      "\u001b[1m50/50\u001b[0m \u001b[32m━━━━━━━━━━━━━━━━━━━━\u001b[0m\u001b[37m\u001b[0m \u001b[1m1s\u001b[0m 9ms/step - accuracy: 0.7805 - loss: 0.4745 - val_accuracy: 0.6911 - val_loss: 0.5525\n",
      "Epoch 17/100\n",
      "\u001b[1m40/50\u001b[0m \u001b[32m━━━━━━━━━━━━━━━━\u001b[0m\u001b[37m━━━━\u001b[0m \u001b[1m0s\u001b[0m 6ms/step - accuracy: 0.8095 - loss: 0.4583\n",
      "Epoch 17: val_accuracy improved from 0.70732 to 0.71545, saving model to Pima_Diabetes_Classification.keras\n",
      "\u001b[1m50/50\u001b[0m \u001b[32m━━━━━━━━━━━━━━━━━━━━\u001b[0m\u001b[37m\u001b[0m \u001b[1m1s\u001b[0m 11ms/step - accuracy: 0.8027 - loss: 0.4617 - val_accuracy: 0.7154 - val_loss: 0.5608\n",
      "Epoch 18/100\n",
      "\u001b[1m45/50\u001b[0m \u001b[32m━━━━━━━━━━━━━━━━━━\u001b[0m\u001b[37m━━\u001b[0m \u001b[1m0s\u001b[0m 5ms/step - accuracy: 0.8159 - loss: 0.4401\n",
      "Epoch 18: val_accuracy did not improve from 0.71545\n",
      "\u001b[1m50/50\u001b[0m \u001b[32m━━━━━━━━━━━━━━━━━━━━\u001b[0m\u001b[37m\u001b[0m \u001b[1m1s\u001b[0m 9ms/step - accuracy: 0.8122 - loss: 0.4436 - val_accuracy: 0.6992 - val_loss: 0.5591\n",
      "Epoch 19/100\n",
      "\u001b[1m43/50\u001b[0m \u001b[32m━━━━━━━━━━━━━━━━━\u001b[0m\u001b[37m━━━\u001b[0m \u001b[1m0s\u001b[0m 5ms/step - accuracy: 0.7726 - loss: 0.4737\n",
      "Epoch 19: val_accuracy did not improve from 0.71545\n",
      "\u001b[1m50/50\u001b[0m \u001b[32m━━━━━━━━━━━━━━━━━━━━\u001b[0m\u001b[37m\u001b[0m \u001b[1m1s\u001b[0m 9ms/step - accuracy: 0.7722 - loss: 0.4738 - val_accuracy: 0.6911 - val_loss: 0.6101\n",
      "Epoch 20/100\n",
      "\u001b[1m40/50\u001b[0m \u001b[32m━━━━━━━━━━━━━━━━\u001b[0m\u001b[37m━━━━\u001b[0m \u001b[1m0s\u001b[0m 5ms/step - accuracy: 0.7929 - loss: 0.4558\n",
      "Epoch 20: val_accuracy did not improve from 0.71545\n",
      "\u001b[1m50/50\u001b[0m \u001b[32m━━━━━━━━━━━━━━━━━━━━\u001b[0m\u001b[37m\u001b[0m \u001b[1m1s\u001b[0m 9ms/step - accuracy: 0.7859 - loss: 0.4637 - val_accuracy: 0.6667 - val_loss: 0.5846\n",
      "Epoch 21/100\n",
      "\u001b[1m40/50\u001b[0m \u001b[32m━━━━━━━━━━━━━━━━\u001b[0m\u001b[37m━━━━\u001b[0m \u001b[1m0s\u001b[0m 5ms/step - accuracy: 0.7773 - loss: 0.4818\n",
      "Epoch 21: val_accuracy did not improve from 0.71545\n",
      "\u001b[1m50/50\u001b[0m \u001b[32m━━━━━━━━━━━━━━━━━━━━\u001b[0m\u001b[37m\u001b[0m \u001b[1m1s\u001b[0m 9ms/step - accuracy: 0.7780 - loss: 0.4801 - val_accuracy: 0.6829 - val_loss: 0.5627\n",
      "Epoch 22/100\n",
      "\u001b[1m45/50\u001b[0m \u001b[32m━━━━━━━━━━━━━━━━━━\u001b[0m\u001b[37m━━\u001b[0m \u001b[1m0s\u001b[0m 5ms/step - accuracy: 0.8075 - loss: 0.4514\n",
      "Epoch 22: val_accuracy did not improve from 0.71545\n",
      "\u001b[1m50/50\u001b[0m \u001b[32m━━━━━━━━━━━━━━━━━━━━\u001b[0m\u001b[37m\u001b[0m \u001b[1m1s\u001b[0m 9ms/step - accuracy: 0.8047 - loss: 0.4550 - val_accuracy: 0.6748 - val_loss: 0.5748\n"
     ]
    },
    {
     "data": {
      "text/plain": [
       "<keras.src.callbacks.history.History at 0x2b02ff94ce0>"
      ]
     },
     "execution_count": 33,
     "metadata": {},
     "output_type": "execute_result"
    }
   ],
   "source": [
    "filepath = \"Pima_Diabetes_Classification.keras\"\n",
    "checkpoint = ModelCheckpoint(filepath, monitor='val_accuracy', verbose=1, save_best_only=True, mode='max')\n",
    "es = EarlyStopping(monitor='val_accuracy', patience=5)\n",
    "callbacks_list = [checkpoint, es]\n",
    "model.fit(X_train, Y_train, validation_split=0.2, epochs=100, batch_size=10, callbacks=callbacks_list)"
   ]
  },
  {
   "cell_type": "code",
   "execution_count": 35,
   "id": "063d6f56",
   "metadata": {
    "id": "063d6f56",
    "outputId": "73b27ac2-3ff7-4b01-ced1-648c7f702ba0"
   },
   "outputs": [
    {
     "name": "stdout",
     "output_type": "stream",
     "text": [
      "\u001b[1m5/5\u001b[0m \u001b[32m━━━━━━━━━━━━━━━━━━━━\u001b[0m\u001b[37m\u001b[0m \u001b[1m0s\u001b[0m 42ms/step\n"
     ]
    },
    {
     "data": {
      "text/plain": [
       "0.6948051948051948"
      ]
     },
     "execution_count": 35,
     "metadata": {},
     "output_type": "execute_result"
    }
   ],
   "source": [
    "from tensorflow.keras.models import load_model\n",
    "# load model\n",
    "model = load_model('Pima_Diabetes_Classification.keras')\n",
    "load_pred=(model.predict(X_test) > 0.5).astype(\"int32\")\n",
    "\n",
    "accuracy_score(Y_test, load_pred)"
   ]
  },
  {
   "cell_type": "code",
   "execution_count": 36,
   "id": "f96d0fbf",
   "metadata": {
    "id": "f96d0fbf"
   },
   "outputs": [
    {
     "name": "stdout",
     "output_type": "stream",
     "text": [
      "\u001b[1m5/5\u001b[0m \u001b[32m━━━━━━━━━━━━━━━━━━━━\u001b[0m\u001b[37m\u001b[0m \u001b[1m0s\u001b[0m 20ms/step\n"
     ]
    }
   ],
   "source": [
    "predictions = (model.predict(X_test) > 0.5).astype(\"int32\")"
   ]
  },
  {
   "cell_type": "code",
   "execution_count": 38,
   "id": "74235206-4e9c-4811-bad0-9db965b4179d",
   "metadata": {},
   "outputs": [
    {
     "name": "stdout",
     "output_type": "stream",
     "text": [
      "[[0]\n",
      " [0]\n",
      " [0]\n",
      " [0]\n",
      " [1]\n",
      " [0]\n",
      " [0]\n",
      " [1]\n",
      " [0]\n",
      " [0]\n",
      " [0]\n",
      " [0]\n",
      " [0]\n",
      " [0]\n",
      " [1]\n",
      " [0]\n",
      " [0]\n",
      " [0]\n",
      " [0]\n",
      " [1]]\n",
      "Accuracy: 0.6948051948051948\n",
      "Confusion Matrix:\n",
      " [[75 24]\n",
      " [23 32]]\n",
      "              precision    recall  f1-score   support\n",
      "\n",
      "           0       0.77      0.76      0.76        99\n",
      "           1       0.57      0.58      0.58        55\n",
      "\n",
      "    accuracy                           0.69       154\n",
      "   macro avg       0.67      0.67      0.67       154\n",
      "weighted avg       0.70      0.69      0.70       154\n",
      "\n"
     ]
    }
   ],
   "source": [
    "# View a few prediction results\n",
    "print(predictions[:20])  # Show first 10 predictions (0 = No Diabetes, 1 = Diabetes)\n",
    "\n",
    "# Evaluate performance\n",
    "from sklearn.metrics import classification_report, confusion_matrix, accuracy_score\n",
    "\n",
    "print(\"Accuracy:\", accuracy_score(Y_test, predictions))\n",
    "print(\"Confusion Matrix:\\n\", confusion_matrix(Y_test, predictions))\n",
    "print(classification_report(Y_test, predictions))"
   ]
  },
  {
   "cell_type": "markdown",
   "id": "8dd684a9-58bc-4b49-ae9e-43a7d90299fb",
   "metadata": {},
   "source": [
    "## Model Prediction & Evaluation:\n",
    "\n",
    "After training, predictions i made on the test set using the best model. The model achieved an overall accuracy of approximately 69%.\n",
    "The confusion matrix further showed the breakdown of true positives, true negatives, false positives, and false negatives, helping assess how well the model distinguished between diabetic and non-diabetic patients.\n",
    "The classification report provided precision, recall, and F1-score for both classes, which are crucial in a medical setting where false negatives (predicting non-diabetic when the patient is diabetic) could have serious consequences."
   ]
  },
  {
   "cell_type": "markdown",
   "id": "4eda0ff9-7697-4b7f-8ae1-3e535437c837",
   "metadata": {},
   "source": [
    "## Conclusion & Impact:\n",
    "\n",
    "The results suggest that the ANN model is reasonably effective in classifying diabetes based on patient health records.\n",
    "In real-world healthcare settings, such predictive models can support early screening, helping medical professionals identify high-risk individuals for timely intervention and lifestyle management. With further improvements—such as hyperparameter tuning, adding more data, or incorporating clinical features—this model can become an assistive tool in reducing undiagnosed cases and improving patient outcomes in diabetes care."
   ]
  },
  {
   "cell_type": "markdown",
   "id": "e9553ae3-e310-44e2-8c49-1ba52f9c56ef",
   "metadata": {},
   "source": [
    "| Class            | Precision | Recall | F1-Score | Support |\n",
    "| ---------------- | --------- | ------ | -------- | ------- |\n",
    "| Non-Diabetic (0) | 77%       | 76%    | 76%      | 99      |\n",
    "| Diabetic (1)     | 57%       | 58%    | 58%      | 55      |\n",
    "\n",
    "Precision for class 1 (Diabetic): \n",
    "Only 57%, meaning that when my model predicts someone is diabetic, it's correct 57% of the time.\n",
    "\n",
    "Recall for class 1 (Diabetic):\n",
    "58%, meaning it correctly identifies 58% of actual diabetics.\n",
    "\n",
    "Class 0 (Non-diabetics)\n",
    "performs much better in all metrics.\n",
    "\n",
    "\n",
    "My model performs moderately well, especially for non-diabetic predictions.\n",
    "\n",
    "However, it has room for improvement in detecting diabetics — which is critical in medical diagnosis."
   ]
  },
  {
   "cell_type": "markdown",
   "id": "7b6ba10a-1c24-49bb-a41c-fb60cadd1e71",
   "metadata": {},
   "source": [
    "## For this project total preview on my github account:\n",
    "https://github.com/Joshuaoghogho"
   ]
  },
  {
   "cell_type": "code",
   "execution_count": null,
   "id": "f2cca37a-e859-4ed7-bf83-ede8566c89e6",
   "metadata": {},
   "outputs": [],
   "source": []
  }
 ],
 "metadata": {
  "colab": {
   "provenance": []
  },
  "kernelspec": {
   "display_name": "Python 3 (ipykernel)",
   "language": "python",
   "name": "python3"
  },
  "language_info": {
   "codemirror_mode": {
    "name": "ipython",
    "version": 3
   },
   "file_extension": ".py",
   "mimetype": "text/x-python",
   "name": "python",
   "nbconvert_exporter": "python",
   "pygments_lexer": "ipython3",
   "version": "3.12.4"
  }
 },
 "nbformat": 4,
 "nbformat_minor": 5
}
